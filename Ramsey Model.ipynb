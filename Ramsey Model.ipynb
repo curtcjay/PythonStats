{
 "cells": [
  {
   "cell_type": "code",
   "execution_count": 42,
   "metadata": {
    "collapsed": false
   },
   "outputs": [
    {
     "ename": "ImportError",
     "evalue": "No module named 'mpmath'",
     "output_type": "error",
     "traceback": [
      "\u001b[1;31m---------------------------------------------------------------------------\u001b[0m",
      "\u001b[1;31mImportError\u001b[0m                               Traceback (most recent call last)",
      "\u001b[1;32m<ipython-input-42-eb420e206ffe>\u001b[0m in \u001b[0;36m<module>\u001b[1;34m()\u001b[0m\n\u001b[0;32m      1\u001b[0m \u001b[1;32mimport\u001b[0m \u001b[0mnumpy\u001b[0m \u001b[1;32mas\u001b[0m \u001b[0mnp\u001b[0m\u001b[1;33m\u001b[0m\u001b[0m\n\u001b[1;32m----> 2\u001b[1;33m \u001b[1;32mimport\u001b[0m \u001b[0mmpmath\u001b[0m\u001b[1;33m\u001b[0m\u001b[0m\n\u001b[0m\u001b[0;32m      3\u001b[0m \u001b[1;32mimport\u001b[0m \u001b[0msympy\u001b[0m\u001b[1;33m\u001b[0m\u001b[0m\n\u001b[0;32m      4\u001b[0m \u001b[1;32mimport\u001b[0m \u001b[0mmatplotlib\u001b[0m\u001b[1;33m.\u001b[0m\u001b[0mpyplot\u001b[0m \u001b[1;32mas\u001b[0m \u001b[0mplt\u001b[0m\u001b[1;33m\u001b[0m\u001b[0m\n\u001b[0;32m      5\u001b[0m \u001b[1;32mimport\u001b[0m \u001b[0mmatplotlib\u001b[0m \u001b[1;32mas\u001b[0m \u001b[0mmpl\u001b[0m\u001b[1;33m\u001b[0m\u001b[0m\n",
      "\u001b[1;31mImportError\u001b[0m: No module named 'mpmath'"
     ]
    }
   ],
   "source": [
    "import numpy as np\n",
    "import mpmath \n",
    "import sympy\n",
    "import matplotlib.pyplot as plt\n",
    "import matplotlib as mpl\n",
    "from mpl_toolkits.mplot3d import Axes3D\n",
    "from scipy import optimize"
   ]
  },
  {
   "cell_type": "code",
   "execution_count": 12,
   "metadata": {
    "collapsed": false
   },
   "outputs": [],
   "source": [
    "theta = 2.0\n",
    "beta = 0.99\n",
    "rho = - np.log(beta)\n",
    "A0 = 1.0\n",
    "g = 0.005 \n",
    "L0 = 100\n",
    "n = 0.0025 \n",
    "H = 1.0\n",
    "delta = 0.025 \n",
    "alpha = 0.33"
   ]
  },
  {
   "cell_type": "code",
   "execution_count": 13,
   "metadata": {
    "collapsed": false
   },
   "outputs": [
    {
     "data": {
      "text/plain": [
       "(0.010050335853501451, 0.0025)"
      ]
     },
     "execution_count": 13,
     "metadata": {},
     "output_type": "execute_result"
    }
   ],
   "source": [
    "rho , n"
   ]
  },
  {
   "cell_type": "code",
   "execution_count": 14,
   "metadata": {
    "collapsed": false
   },
   "outputs": [
    {
     "data": {
      "text/plain": [
       "True"
      ]
     },
     "execution_count": 14,
     "metadata": {},
     "output_type": "execute_result"
    }
   ],
   "source": [
    "rho - n - (1 - theta) * g > 0"
   ]
  },
  {
   "cell_type": "markdown",
   "metadata": {},
   "source": [
    "\n",
    "###### In the cell below I have provided code for the consumption Euler equation as well as code for two implicit functions defining the behavior of $k$ and $c$ in the neigborhood of the steady state of the Ramsey economy. The rest of the functions are as follows:\n",
    "\n",
    "###### * the intensive form of the Cobb-Douglas production function, $f(k_{t})$\n",
    "###### * the evolution of capital per effective worker, $k_{t+1}$, in terms of $k_{t}$ and $c_{t}$.\n",
    "###### * the implicit function describing the evolution of capital per effective worker in the neighborhood of the steady state.\n",
    "###### * the implicit function describing the consumption euler equation in the neighborhood of the steady state.\n",
    "# \n",
    "###### You all should be familiar enough with the intensive form of the production function. Here is the equation of motion for capital:\n",
    " \n",
    "### $$k_{t+1} = e^{-(n + g)}(f(k) + e^{-\\delta}k_{t} - c_{t}) $$\n"
   ]
  },
  {
   "cell_type": "code",
   "execution_count": 15,
   "metadata": {
    "collapsed": false
   },
   "outputs": [],
   "source": [
    "def f(k):\n",
    "    \"\"\"\n",
    "    \n",
    "    In your lectures you will have been introduced to the intensive form of \n",
    "    the production function.  The intensive form of the production function \n",
    "    expresses output per effective worker, y, as a function of the capital \n",
    "    stock per effective worker, k.\n",
    "    \n",
    "    Inputs:\n",
    "        1) k_t: current period's level of capital per effective worker\n",
    "        \n",
    "    Returns:\n",
    "        1) y_t: current period's output per effective worker\n",
    "        \n",
    "    \"\"\"\n",
    "    return k**alpha\n",
    "\n",
    "def euler(k, c):\n",
    "    \"\"\"\n",
    "    \n",
    "    Via the consumption Euler equation, next period's consumption per\n",
    "    effective worker can be written as a function of current period \n",
    "    consumption and capital stock (both per effective worker).\n",
    "    \n",
    "    Inputs:\n",
    "        1) k_t: next period's level of capital per effective worker\n",
    "        2) c_t: current period's level of consumption per effective worker\n",
    "        \n",
    "    Returns:\n",
    "        1) c_t+1: next period's consumption per effective worker\n",
    "        \n",
    "    \"\"\"\n",
    "    return np.exp(-g) * (np.exp(-rho) * (np.exp(-delta) + alpha * capital(k, c)**(alpha - 1)))**(1 / theta) * c\n",
    "    \n",
    "def capital(k, c):\n",
    "    \"\"\"\n",
    "    \n",
    "    Next period's capital stock per effective worker can be written as a \n",
    "    function of current period consumption and capital stock (both per \n",
    "    effective worker).\n",
    "    \n",
    "    Inputs:\n",
    "        1) k_t: current period's level of capital per effective worker\n",
    "        2) c_t: current period's level of consumption per effective worker\n",
    "        \n",
    "    Returns:\n",
    "        1) k_t+1: next period's capital stock per effective worker\n",
    "        \n",
    "    \"\"\"\n",
    "    return np.exp(-(n + g)) * (f(k) + np.exp(-delta) * k - c)\n",
    "\n",
    "def F1(k, c):\n",
    "    \"\"\"\n",
    "    \n",
    "    Can express the change in capital stock per effective worker between \n",
    "    any two periods as follows:\n",
    "        \n",
    "        k_t+1 - k_t = capital(k, c) - k_t\n",
    "    \n",
    "    In steady-state, capital stock per effective worker must be constant, \n",
    "    and thus the LHS of the above must be zero. This implies that, the \n",
    "    steady state values of k and c will solve the following equation:\n",
    "    \n",
    "        capital(k, c) - k = 0\n",
    "    \n",
    "    \"\"\"\n",
    "    return capital(k, c) - k\n",
    "    \n",
    "def F2(k, c):\n",
    "    \"\"\"\n",
    "    \n",
    "    Can express the change in consumption per effective worker between \n",
    "    any two periods as follows:\n",
    "        \n",
    "        c_t+1 - c_t = euler(k, c) - c\n",
    "    \n",
    "    In steady-state, consumption per effective worker must be constant, \n",
    "    and thus the LHS of the above must be zero. This implies that, the \n",
    "    steady state values of k and c will solve the following equation:\n",
    "    \n",
    "        euler(k, c) - c = 0\n",
    "    \n",
    "    \"\"\"\n",
    "    return euler(k, c) - c\n"
   ]
  },
  {
   "cell_type": "code",
   "execution_count": 16,
   "metadata": {
    "collapsed": false
   },
   "outputs": [],
   "source": [
    "def k_star(): \n",
    "    \"\"\"\n",
    "    \n",
    "    The steady-state level of capital stock per effective worker, k_star, \n",
    "    in the Ramsey model is a function of the exogenous parameters!\n",
    "    \n",
    "    N.B.: The function takes no arguments because parameters are defined above!\n",
    "    \"\"\"\n",
    "    return ((alpha * np.exp(-rho)) / (np.exp(theta * g) - np.exp(-(rho + delta))))**(1 / (1 - alpha))\n",
    "    \n",
    "def c_star(): \n",
    "    \"\"\"\n",
    "    \n",
    "    The steady-state level of consumption per effective worker, c_star, \n",
    "    in the Ramsey model is a direct function of the exogenous parameters \n",
    "    and the steady-state level of capital stock per effective worker \n",
    "    (which is itself a function of only exogenous parameters).\n",
    "    \n",
    "    N.B.: The function takes no arguments because parameters are defined above!\n",
    "    \"\"\"\n",
    "    return f(k_star()) + (np.exp(-delta) - np.exp(n + g)) * k_star()\n"
   ]
  },
  {
   "cell_type": "code",
   "execution_count": 17,
   "metadata": {
    "collapsed": false
   },
   "outputs": [
    {
     "data": {
      "text/plain": [
       "(19.60285758306458, 2.0381476236391665)"
      ]
     },
     "execution_count": 17,
     "metadata": {},
     "output_type": "execute_result"
    }
   ],
   "source": [
    "k_star(), c_star()"
   ]
  },
  {
   "cell_type": "markdown",
   "metadata": {},
   "source": [
    "##### Here I use the 'fsolve' function to find find the steady-state values of k and c numerically.  \n",
    "##### Equations **capital** and **euler** form a coupled two equation dynamical system in two unknowns.  \n",
    "##### Above we have defined two implicit functions F1 and F2 such that:\n",
    "#     \n",
    "######     F1(k_Star, c_Star) = 0\n",
    "######     F2(k_Star, c_Star) = 0\n",
    "# \n",
    "##### Thus, mathematically, the problem of finding the steady-state values of k and c, is \"simply\" a root-finding problem! \n",
    "##### To find the root of this equation we will again use the function 'fsolve()' from the scipy.optimize package."
   ]
  },
  {
   "cell_type": "code",
   "execution_count": 18,
   "metadata": {
    "collapsed": false
   },
   "outputs": [],
   "source": [
    "def ramseySteadyState(X):\n",
    "    out = [F1(X[0], X[1])]\n",
    "    out.append(F2(X[0], X[1]))\n",
    "    return out\n",
    "\n",
    "# Apply fsolve()...note that we need to give the algorithm a decent guess!\n",
    "k0, c0 = 3, 1\n",
    "k_Star, c_Star = optimize.fsolve(func=ramseySteadyState, x0=(k0, c0))"
   ]
  },
  {
   "cell_type": "code",
   "execution_count": 19,
   "metadata": {
    "collapsed": false
   },
   "outputs": [
    {
     "data": {
      "text/plain": [
       "(19.602857582146562, 2.0381476236311964)"
      ]
     },
     "execution_count": 19,
     "metadata": {},
     "output_type": "execute_result"
    }
   ],
   "source": [
    "k_Star, c_Star"
   ]
  },
  {
   "cell_type": "code",
   "execution_count": 23,
   "metadata": {
    "collapsed": false
   },
   "outputs": [
    {
     "name": "stdout",
     "output_type": "stream",
     "text": [
      "Numeric  k*:   19.6028575821\n",
      "Analytic k*:   19.6028575831\n",
      "Numeric  c*:   2.03814762363\n",
      "Analytic c*:   2.03814762364\n"
     ]
    }
   ],
   "source": [
    "# Display numerical steady-state values and compare to analytic solutions\n",
    "print(\"Numeric  k*:  \", k_Star)\n",
    "print(\"Analytic k*:  \", k_star())\n",
    "print(\"Numeric  c*:  \", c_Star)\n",
    "print(\"Analytic c*:  \", c_star())"
   ]
  },
  {
   "cell_type": "code",
   "execution_count": 25,
   "metadata": {
    "collapsed": false
   },
   "outputs": [],
   "source": [
    "\"\"\"\"\n",
    "Simulating the deterministic Ramsey model\n",
    "\"\"\"\n",
    "\n",
    "class ramseyModel(object):\n",
    "    \n",
    "    def __init__(self, params, k=None, c=None):\n",
    "        \"\"\"\n",
    "        \n",
    "        Represents the Ramsey model \n",
    "        \n",
    "        Definition of exogenous parameters of the Ramsey Model\n",
    "            1) theta: coefficient of relative risk aversion \n",
    "            2) beta: discount factor\n",
    "            3) rho: discount rate\n",
    "            4) A0: initial level of technology\n",
    "            5) g: growth rate of technology\n",
    "            6) L0: initial level of population\n",
    "            7) n: population growth rate\n",
    "            8) H: household size\n",
    "            9) delta: rate of capital depreciation\n",
    "            10) alpha: capital share of output\n",
    "        Attributes: \n",
    "            1) params: a dictionary of parameters and their values (i.e., {'alpha':0.33, ...}.\n",
    "            2) k: an initial condition for the state variable k (i.e., capital per\n",
    "                  effective worker!)\n",
    "            3) c: an initial condition for the control variable c (i.e., consumption per\n",
    "                  effective worker!)\n",
    "        \n",
    "        \"\"\"\n",
    "        # current value of state variable, k\n",
    "        self.k            = k\n",
    "        # current value of the control variable, c\n",
    "        self.c            = c\n",
    "        # dictionary of parameter values\n",
    "        self.param_dict   = params\n",
    "        # dictionary of steady state values        \n",
    "        self.SS_dict      = {'k_star':self.set_k_star(self.param_dict), \n",
    "                             'c_star':self.set_c_star(self.param_dict),\n",
    "                             's_star':self.set_s_star(self.param_dict)}\n",
    "    def u(self, C):\n",
    "        \"\"\"\n",
    "        Representative agent has constant relative risk aversion (CRRA)\n",
    "        preferences over consumption per worker, C.\n",
    "        For \\theta \\neq 1, CRRA preferences are:\n",
    "        u(C_{t}) = \\frac{C_{t}^{1 - \\theta} - 1}{1 - \\theta}\n",
    "        For \\theta = 1, CRRA preferences are equivalent to:\n",
    "        u(C_{t} = ln C_{t}\n",
    "        Inputs: consumption per worker, C.\n",
    "        Returns: utility from consuming C, u(C).\n",
    "        \"\"\"\n",
    "        # extract the params\n",
    "        theta = self.param_dict['theta']\n",
    "        \n",
    "        if theta != 1:\n",
    "            return (C**(1 - theta) - 1) / (1 - theta)\n",
    "        else:\n",
    "            return np.log(C)\n",
    "    \n",
    "    def lifetimeUtility(self, c):\n",
    "        \"\"\"\n",
    "        Computes lifetime utility associated with a consumption stream. Note\n",
    "        that the function automatically accounts for growth in technology and\n",
    "        population.\n",
    "        Inputs: an array, c representing a consumption stream in per effective\n",
    "        worker units.\n",
    "        Returns: A list containing...\n",
    "            1. Present discount value, in terms of utility, of the consumption\n",
    "            stream.\n",
    "            2. The path of discounted flow utility (for plotting)\n",
    "        \"\"\"\n",
    "        # extract the params\n",
    "        A0   = self.param_dict['A0']\n",
    "        g    = self.param_dict['g']\n",
    "        L0   = self.param_dict['L0']\n",
    "        H    = self.param_dict['H']\n",
    "        n    = self.param_dict['n']\n",
    "        rho  = self.param_dict['rho']\n",
    "        \n",
    "        # need to inflate consumption per effective worker by technology\n",
    "        tech_path = A0 * np.exp(g * np.arange(0, np.size(c), 1))\n",
    "        \n",
    "        # need to discount future utility from consumption appropriately\n",
    "        discounted_u = (L0 / H) * np.exp((n - rho) * np.arange(0, np.size(c), 1))\n",
    "        \n",
    "        # compute the path of utility\n",
    "        utility_path = discounted_u * self.u(c * tech_path)\n",
    "        \n",
    "        return [np.sum(utility_path), utility_path]\n",
    "\n",
    "    def set_k_star(self, params): \n",
    "        \"\"\"\n",
    "    \n",
    "        The steady-state level of capital stock per effective worker, k_star, \n",
    "        in the Ramsey model is a function of the exogenous parameters!\n",
    "    \n",
    "        \"\"\"\n",
    "        # extract params\n",
    "        n     = params['n']\n",
    "        g     = params['g']\n",
    "        alpha = params['alpha']\n",
    "        delta = params['delta']\n",
    "        rho   = params['rho']\n",
    "        theta = params['theta']\n",
    "    \n",
    "        return ((alpha * np.exp(-rho)) / (np.exp(theta * g) - np.exp(-(rho + delta))))**(1 / (1 - alpha))\n",
    "    \n",
    "    def set_c_star(self, params): \n",
    "        \"\"\"\n",
    "    \n",
    "        The steady-state level of consumption per effective worker, c_star, \n",
    "        in the Ramsey model is a direct function of the exogenous parameters \n",
    "        and the steady-state level of capital stock per effective worker \n",
    "        (which is itself a function of only exogenous parameters).\n",
    "    \n",
    "        \"\"\"\n",
    "        # extract params\n",
    "        n      = params['n']\n",
    "        g      = params['g']\n",
    "        alpha  = params['alpha']\n",
    "        delta  = params['delta']\n",
    "        k_star = self.set_k_star(params)\n",
    "        \n",
    "        return k_star**alpha + (np.exp(-delta) - np.exp(n + g)) * k_star\n",
    "    \n",
    "    def set_s_star(self, params):\n",
    "        \"\"\" \n",
    "        Steady state savings rate of the Ramsey economy\n",
    "    \n",
    "        \"\"\"\n",
    "        # extract params\n",
    "        n     = params['n']\n",
    "        g     = params['g']\n",
    "        alpha = params['alpha']\n",
    "        delta = params['delta']\n",
    "        rho   = params['rho']\n",
    "        theta = params['theta']\n",
    "        \n",
    "        s     = alpha * np.exp(-rho) * (np.exp(n + g) - np.exp(-delta)) / \\\n",
    "                (np.exp(theta * g) - np.exp(-(rho + delta)))\n",
    "        return s\n",
    "    \n",
    "    def capital(self, k, c):\n",
    "        \"\"\"\n",
    "    \n",
    "        Next period's capital stock per effective worker can be written as a \n",
    "        function of current period consumption and capital stock (both per \n",
    "        effective worker).\n",
    "    \n",
    "        Inputs:\n",
    "            1) k_t: current period's level of capital per effective worker\n",
    "            2) c_t: current period's level of consumption per effective worker\n",
    "        \n",
    "        Returns:\n",
    "            1) k_t+1: next period's capital stock per effective worker\n",
    "        \n",
    "        \"\"\"\n",
    "        # extract params\n",
    "        n     = self.param_dict['n']\n",
    "        g     = self.param_dict['g']\n",
    "        alpha = self.param_dict['alpha']\n",
    "        delta = self.param_dict['delta']\n",
    "    \n",
    "        return np.exp(-(n + g)) * (k**alpha + np.exp(-delta) * k - c)\n",
    "    \n",
    "    def euler(self, k, c):\n",
    "        \"\"\"\n",
    "    \n",
    "        Via the consumption Euler equation, next period's consumption per\n",
    "        effective worker can be written as a function of current period \n",
    "        consumption and capital stock (both per effective worker).\n",
    "    \n",
    "        Inputs:\n",
    "            1) k_t: next period's level of capital per effective worker\n",
    "            2) c_t: current period's level of consumption per effective worker\n",
    "        \n",
    "        Returns:\n",
    "            1) c_t+1: next period's consumption per effective worker\n",
    "        \n",
    "        \"\"\"\n",
    "        # extract params\n",
    "        n     = self.param_dict['n']\n",
    "        g     = self.param_dict['g']\n",
    "        alpha = self.param_dict['alpha']\n",
    "        delta = self.param_dict['delta']\n",
    "        rho   = self.param_dict['rho']\n",
    "        theta = self.param_dict['theta']\n",
    "    \n",
    "        return np.exp(-g) * (np.exp(-rho) * (np.exp(-delta) + alpha * capital(k, c)**(alpha - 1)))**(1 / theta) * c\n",
    "\n",
    "    def update(self):\n",
    "        \"\"\"\n",
    "        \n",
    "        Update the state variables according to k_{t+1} = capital(k_t, c_t, params) and \n",
    "        c_{t+1} = euler(k_t, c_t, params).\n",
    "        \n",
    "        CRUCIAL that k is updated PRIOR to updating c!\n",
    "        \"\"\"\n",
    "        # remember to always update k first!\n",
    "        self.k = self.capital(self.k, self.c) \n",
    "        self.c = self.euler(self.k, self.c)\n",
    "\n",
    "    def sample_path(self, n=None):\n",
    "        \"\"\"\n",
    "        \n",
    "        Generate sample path of length n starting from the current state\n",
    "        \n",
    "        \"\"\"\n",
    "        path = np.zeros(shape=(n, 2))\n",
    "        \n",
    "        for t in range(n):\n",
    "            path[t, 0] = self.k\n",
    "            path[t, 1] = self.c\n",
    "            self.update()\n",
    "        \n",
    "        return path\n",
    "\n",
    "    def steady(self, k0=None, c0=None):\n",
    "        \"\"\"\n",
    "        \n",
    "        Finds the steady state for the Ramsey economy either using the \n",
    "        analytic solution, or using a root solver and an initial guess.\n",
    "        \n",
    "        \"\"\"\n",
    "        \n",
    "        def ramseySS(X):\n",
    "            out = [self.capital(X[0], X[1]) - X[0]]\n",
    "            out.append(self.euler(X[0], X[1]) - X[1])\n",
    "            return out\n",
    "\n",
    "        return optimize.fsolve(func=ramseySS, x0=(k0, c0))\n",
    "        \n",
    "    def stability(self):\n",
    "        \"\"\"\n",
    "        \n",
    "        Computes the Jacobian matrix of partial derivatives (evaluated at steady-state), \n",
    "        and then calculates the Jacobian's eigenvalues and eigenvectors.\n",
    "        \n",
    "        \"\"\"\n",
    "        \n",
    "        # calculate partial derivatives\n",
    "        capital_c = mp.diff(f=self.capital, x=(self.SS_dict['k_star'], self.SS_dict['c_star']), n=(0, 1))\n",
    "        capital_k = mp.diff(f=self.capital, x=(self.SS_dict['k_star'], self.SS_dict['c_star']), n=(1, 0))\n",
    "        euler_c   = mp.diff(f=self.euler, x=(self.SS_dict['k_star'], self.SS_dict['c_star']), n=(0, 1))\n",
    "        euler_k   = mp.diff(f=self.euler, x=(self.SS_dict['k_star'], self.SS_dict['c_star']), n=(1, 0))\n",
    "        \n",
    "        # define the Jacobian\n",
    "        jacobian = np.array([[capital_k, capital_c], [euler_k, euler_c]], dtype='float')\n",
    "        \n",
    "        # calculate eigenvalues/vectors\n",
    "        eigenvalues, eigenvectors = np.linalg.eig(jacobian)\n",
    "        \n",
    "        return [jacobian, eigenvalues, eigenvectors]\n",
    "    \n",
    "    def get_lifetimeUtility(self, c, A0=1, L0=1, H=1):\n",
    "        \"\"\"\n",
    "        Computes lifetime utility associated with a consumption\n",
    "        stream. Note that the function automatically accounts for\n",
    "        growth in technology and population.\n",
    "        Inputs:\n",
    "            1. an array, c representing a consumption stream in per\n",
    "                effective worker units.\n",
    "            2. A0: (default = 1) some value for the initial level of\n",
    "                technology.\n",
    "            3. L0: (default = 1) some value for the initial size of\n",
    "                labor force.\n",
    "            4. H: (default = 1) size of the representative household.\n",
    "        Returns: A list containing...\n",
    "            1. Present discount value, in terms of utility, of the\n",
    "                consumption stream.\n",
    "            2. The path of discounted flow utility (for plotting)\n",
    "        \"\"\"\n",
    "        # extract the params\n",
    "        g = self.param_dict['g']\n",
    "        n = self.param_dict['n']\n",
    "        beta = self.param_dict['beta']\n",
    "        \n",
    "        # time path\n",
    "        time = np.arange(0, np.size(c), 1)\n",
    "        \n",
    "        # need to inflate consumption per effective worker by technology\n",
    "        tech_path = A0 * np.exp(g * time)\n",
    "        \n",
    "        # need to discount future utility from consumption\n",
    "        discount_factor = (L0 / float(H)) * (beta * n)**time\n",
    "        \n",
    "        # compute the path of utility\n",
    "        utility_path = discount_factor * self.get_utility(c * tech_path)\n",
    "        \n",
    "        return [np.sum(utility_path), utility_path]\n",
    "    \n",
    "    def forward_shoot(self, k0=None, c0=None, tol=1.5e-08):\n",
    "        \"\"\"\n",
    "        \n",
    "        Computes the full, non-linear saddle path for the Ramsey model using the \n",
    "        'forward shooting' algorithm (see Judd (1992) p. 357 for details). \n",
    "        \n",
    "        \"\"\"\n",
    "        # compute steady state values\n",
    "        k_star, c_star = self.SS_dict['k_star'], self.SS_dict['c_star']\n",
    "        \n",
    "        if k0 <= k_star:\n",
    "            c_l = 0\n",
    "            c_h = c_star\n",
    "        else:\n",
    "            c_l = c_star\n",
    "            c_h = k0**alpha\n",
    "        c0 = (c_h + c_l) / 2\n",
    "        self.k, self.c = k0, c0\n",
    "    \n",
    "        # Initialize a counter\n",
    "        count  = 0\n",
    "        n_iter = 0\n",
    "        \n",
    "        # Forward Shooting Algorithm\n",
    "        while 1:\n",
    "            self.update()\n",
    "            dist = np.abs(((self.k - k_star)**2 + (self.c - c_star)**2)**0.5)\n",
    "            count = count + 1\n",
    "            if k0 <= k_star:\n",
    "                if self.k > k_star:\n",
    "                    if dist < tol:\n",
    "                        break\n",
    "                    else: # initial c_l too low!\n",
    "                        c_l = c0\n",
    "                        c0 = (c_h + c_l) / 2\n",
    "                        self.k, self.c = k0, c0\n",
    "                        count = 0\n",
    "                if self.c > c_star:\n",
    "                    if dist < tol:\n",
    "                        break\n",
    "                    else: # initial c_h too high!\n",
    "                        c_h = c0 \n",
    "                        c0 = (c_h + c_l) / 2\n",
    "                        self.k, self.c = k0, c0\n",
    "                        count = 0\n",
    "            else:\n",
    "                if self.k < k_star:\n",
    "                    if dist < tol:\n",
    "                        break\n",
    "                    else: # initial c_l too high!\n",
    "                        c_h = c0 \n",
    "                        c0 = (c_h + c_l) / 2\n",
    "                        self.k, self.c = k0, c0\n",
    "                        count = 0\n",
    "                if self.c < c_star:\n",
    "                    if dist < tol:\n",
    "                        break\n",
    "                    else: # initial c_l too low!\n",
    "                        c_l = c0\n",
    "                        c0 = (c_h + c_l) / 2\n",
    "                        self.k, self.c = k0, c0\n",
    "                        count = 0\n",
    "                \n",
    "        self.k, self.c = k0, c0\n",
    "        solutionPath = self.sample_path(count)\n",
    "\n",
    "        return [self.c, solutionPath, count, dist]\n"
   ]
  },
  {
   "cell_type": "code",
   "execution_count": 26,
   "metadata": {
    "collapsed": false
   },
   "outputs": [],
   "source": [
    "params = {'theta':theta, 'rho':rho, 'A0':A0, 'g':g, 'L0':L0, 'n':n, 'H':H, 'delta':delta, 'alpha':alpha}"
   ]
  },
  {
   "cell_type": "code",
   "execution_count": 27,
   "metadata": {
    "collapsed": false
   },
   "outputs": [],
   "source": [
    "ramsey = ramseyModel(params)"
   ]
  },
  {
   "cell_type": "code",
   "execution_count": 28,
   "metadata": {
    "collapsed": false
   },
   "outputs": [],
   "source": [
    "ramsey.k, ramsey.c = 12, 0.4"
   ]
  },
  {
   "cell_type": "code",
   "execution_count": 31,
   "metadata": {
    "collapsed": false
   },
   "outputs": [
    {
     "name": "stdout",
     "output_type": "stream",
     "text": [
      "0.327534258090316*k**(-0.67) + 0.968022449831306\n"
     ]
    },
    {
     "name": "stderr",
     "output_type": "stream",
     "text": [
      "C:\\Anaconda3\\lib\\site-packages\\IPython\\extensions\\sympyprinting.py:118: UserWarning: The sympyprinting extension in IPython is deprecated, use 'from sympy import init_printing; init_printing()'\n",
      "  warnings.warn(\"The sympyprinting extension in IPython is deprecated, \"\n",
      "C:\\Anaconda3\\lib\\site-packages\\sympy\\interactive\\ipythonprinting.py:49: SymPyDeprecationWarning: \n",
      "\n",
      "using %load_ext sympy.interactive.ipythonprinting has been deprecated\n",
      "since SymPy 0.7.3. Use from sympy import init_printing ;\n",
      "init_printing() instead. See\n",
      "https://github.com/sympy/sympy/issues/7013 for more info.\n",
      "\n",
      "  issue=7013\n"
     ]
    }
   ],
   "source": [
    "k, c = sympy.var('k, c')\n",
    "k_c_sym = sympy.diff(capital(k, c), c).simplify()\n",
    "k_k_sym = sympy.diff(capital(k, c), k).simplify()\n",
    "c_c_sym = sympy.diff(euler(k, c), c).simplify()\n",
    "c_k_sym = sympy.diff(euler(k, c), k).simplify()\n",
    "\n",
    "\n",
    "# load SymPy printing (needs update)\n",
    "%load_ext sympyprinting\n",
    "\n",
    "# Display one of the resulting functions to show the output\n",
    "print(k_k_sym)"
   ]
  },
  {
   "cell_type": "code",
   "execution_count": 33,
   "metadata": {
    "collapsed": false
   },
   "outputs": [
    {
     "data": {
      "text/plain": [
       "array([[  61.42125699,    0.32582349],\n",
       "       [  62.99643988,    0.32185225],\n",
       "       [  64.55760688,    0.31787857],\n",
       "       [  66.10438873,    0.31390612],\n",
       "       [  67.63645223,    0.30993826],\n",
       "       [  69.15349798,    0.30597809],\n",
       "       [  70.65525828,    0.30202846],\n",
       "       [  72.1414952 ,    0.29809201],\n",
       "       [  73.61199869,    0.29417115],\n",
       "       [  75.0665849 ,    0.29026811],\n",
       "       [  76.50509453,    0.28638494],\n",
       "       [  77.9273913 ,    0.28252351],\n",
       "       [  79.33336056,    0.27868554],\n",
       "       [  80.72290791,    0.27487263],\n",
       "       [  82.09595795,    0.27108619],\n",
       "       [  83.4524531 ,    0.26732757],\n",
       "       [  84.79235244,    0.26359795],\n",
       "       [  86.11563072,    0.25989844],\n",
       "       [  87.42227729,    0.25623002],\n",
       "       [  88.71229522,    0.2525936 ],\n",
       "       [  89.9857004 ,    0.24898997],\n",
       "       [  91.24252068,    0.24541988],\n",
       "       [  92.48279511,    0.24188396],\n",
       "       [  93.70657319,    0.2383828 ],\n",
       "       [  94.91391416,    0.23491692],\n",
       "       [  96.10488636,    0.23148675],\n",
       "       [  97.27956655,    0.22809269],\n",
       "       [  98.4380394 ,    0.22473507],\n",
       "       [  99.58039684,    0.22141418],\n",
       "       [ 100.70673762,    0.21813027],\n",
       "       [ 101.81716673,    0.21488351],\n",
       "       [ 102.911795  ,    0.21167406],\n",
       "       [ 103.9907386 ,    0.20850203],\n",
       "       [ 105.05411864,    0.20536751],\n",
       "       [ 106.10206078,    0.20227052],\n",
       "       [ 107.13469485,    0.19921108],\n",
       "       [ 108.15215447,    0.19618918],\n",
       "       [ 109.15457675,    0.19320476],\n",
       "       [ 110.14210195,    0.19025775],\n",
       "       [ 111.1148732 ,    0.18734806],\n",
       "       [ 112.07303618,    0.18447557],\n",
       "       [ 113.01673889,    0.18164014],\n",
       "       [ 113.9461314 ,    0.17884161],\n",
       "       [ 114.86136555,    0.1760798 ],\n",
       "       [ 115.76259482,    0.17335453],\n",
       "       [ 116.64997405,    0.17066558],\n",
       "       [ 117.52365925,    0.16801274],\n",
       "       [ 118.38380742,    0.16539576],\n",
       "       [ 119.23057638,    0.16281441],\n",
       "       [ 120.06412461,    0.16026842]])"
      ]
     },
     "execution_count": 33,
     "metadata": {},
     "output_type": "execute_result"
    }
   ],
   "source": [
    "# Generate a sample path of length 10 for the Ramsey economy using the sample_path() method\n",
    "ramsey.sample_path(50)"
   ]
  },
  {
   "cell_type": "markdown",
   "metadata": {},
   "source": [
    "###### Computing the Jacobian matrix of partial derivatives\n",
    "###### Method 1: Symbolic differentiation using SymPy. \n",
    "###### Method 2: Numerical differentiation using Python. "
   ]
  },
  {
   "cell_type": "code",
   "execution_count": 34,
   "metadata": {
    "collapsed": false
   },
   "outputs": [
    {
     "data": {
      "text/plain": [
       "array([ 19.60285758,   2.03814762])"
      ]
     },
     "execution_count": 34,
     "metadata": {},
     "output_type": "execute_result"
    }
   ],
   "source": [
    "# Check that the method steady() returns the same steady-state values obtained above\n",
    "ramsey.steady(k0=3, c0=1)"
   ]
  },
  {
   "cell_type": "markdown",
   "metadata": {},
   "source": [
    "##### Evaluate these symbolic derivatives at the steady state values of k_star and c_star and compare the results with those obtained from analytic derivatives"
   ]
  },
  {
   "cell_type": "code",
   "execution_count": 36,
   "metadata": {
    "collapsed": false
   },
   "outputs": [
    {
     "name": "stdout",
     "output_type": "stream",
     "text": [
      "[[1.01262942182 -0.992528054819]\n",
      " [-0.00155368796866 1.00152284623]]\n"
     ]
    }
   ],
   "source": [
    "ramseyJacobian = np.array([[k_k_sym.evalf(n=12, subs={k:k_star(), c:c_star()}), k_c_sym.evalf(n=12, subs={k:k_star(), c:c_star()})], \n",
    "                             [c_k_sym.evalf(n=12, subs={k:k_star(), c:c_star()}), c_c_sym.evalf(n=12, subs={k:k_star(), c:c_star()})]])\n",
    "print(ramseyJacobian)"
   ]
  },
  {
   "cell_type": "code",
   "execution_count": 43,
   "metadata": {
    "collapsed": false
   },
   "outputs": [
    {
     "ename": "ImportError",
     "evalue": "No module named 'mpmath'",
     "output_type": "error",
     "traceback": [
      "\u001b[1;31m---------------------------------------------------------------------------\u001b[0m",
      "\u001b[1;31mImportError\u001b[0m                               Traceback (most recent call last)",
      "\u001b[1;32m<ipython-input-43-873c449c8be7>\u001b[0m in \u001b[0;36m<module>\u001b[1;34m()\u001b[0m\n\u001b[1;32m----> 1\u001b[1;33m \u001b[1;32mimport\u001b[0m \u001b[0mmpmath\u001b[0m\u001b[1;33m\u001b[0m\u001b[0m\n\u001b[0m\u001b[0;32m      2\u001b[0m \u001b[1;33m\u001b[0m\u001b[0m\n\u001b[0;32m      3\u001b[0m \u001b[0mcapital_c\u001b[0m \u001b[1;33m=\u001b[0m \u001b[0mmp\u001b[0m\u001b[1;33m.\u001b[0m\u001b[0mdiff\u001b[0m\u001b[1;33m(\u001b[0m\u001b[0mf\u001b[0m\u001b[1;33m=\u001b[0m\u001b[0mcapital\u001b[0m\u001b[1;33m,\u001b[0m \u001b[0mx\u001b[0m\u001b[1;33m=\u001b[0m\u001b[1;33m(\u001b[0m\u001b[0mk_Star\u001b[0m\u001b[1;33m,\u001b[0m \u001b[0mc_Star\u001b[0m\u001b[1;33m)\u001b[0m\u001b[1;33m,\u001b[0m \u001b[0mn\u001b[0m\u001b[1;33m=\u001b[0m\u001b[1;33m(\u001b[0m\u001b[1;36m0\u001b[0m\u001b[1;33m,\u001b[0m \u001b[1;36m1\u001b[0m\u001b[1;33m)\u001b[0m\u001b[1;33m)\u001b[0m\u001b[1;33m\u001b[0m\u001b[0m\n\u001b[0;32m      4\u001b[0m \u001b[0mcapital_k\u001b[0m \u001b[1;33m=\u001b[0m \u001b[0mmp\u001b[0m\u001b[1;33m.\u001b[0m\u001b[0mdiff\u001b[0m\u001b[1;33m(\u001b[0m\u001b[0mf\u001b[0m\u001b[1;33m=\u001b[0m\u001b[0mcapital\u001b[0m\u001b[1;33m,\u001b[0m \u001b[0mx\u001b[0m\u001b[1;33m=\u001b[0m\u001b[1;33m(\u001b[0m\u001b[0mk_Star\u001b[0m\u001b[1;33m,\u001b[0m \u001b[0mc_Star\u001b[0m\u001b[1;33m)\u001b[0m\u001b[1;33m,\u001b[0m \u001b[0mn\u001b[0m\u001b[1;33m=\u001b[0m\u001b[1;33m(\u001b[0m\u001b[1;36m1\u001b[0m\u001b[1;33m,\u001b[0m \u001b[1;36m0\u001b[0m\u001b[1;33m)\u001b[0m\u001b[1;33m)\u001b[0m\u001b[1;33m\u001b[0m\u001b[0m\n\u001b[0;32m      5\u001b[0m \u001b[0meuler_c\u001b[0m \u001b[1;33m=\u001b[0m \u001b[0mmp\u001b[0m\u001b[1;33m.\u001b[0m\u001b[0mdiff\u001b[0m\u001b[1;33m(\u001b[0m\u001b[0mf\u001b[0m\u001b[1;33m=\u001b[0m\u001b[0meuler\u001b[0m\u001b[1;33m,\u001b[0m \u001b[0mx\u001b[0m\u001b[1;33m=\u001b[0m\u001b[1;33m(\u001b[0m\u001b[0mk_Star\u001b[0m\u001b[1;33m,\u001b[0m \u001b[0mc_Star\u001b[0m\u001b[1;33m)\u001b[0m\u001b[1;33m,\u001b[0m \u001b[0mn\u001b[0m\u001b[1;33m=\u001b[0m\u001b[1;33m(\u001b[0m\u001b[1;36m0\u001b[0m\u001b[1;33m,\u001b[0m \u001b[1;36m1\u001b[0m\u001b[1;33m)\u001b[0m\u001b[1;33m)\u001b[0m\u001b[1;33m\u001b[0m\u001b[0m\n",
      "\u001b[1;31mImportError\u001b[0m: No module named 'mpmath'"
     ]
    }
   ],
   "source": [
    "import mpmath\n",
    "\n",
    "capital_c = mp.diff(f=capital, x=(k_Star, c_Star), n=(0, 1))\n",
    "capital_k = mp.diff(f=capital, x=(k_Star, c_Star), n=(1, 0))\n",
    "euler_c = mp.diff(f=euler, x=(k_Star, c_Star), n=(0, 1))\n",
    "euler_k = mp.diff(f=euler, x=(k_Star, c_Star), n=(1, 0))\n",
    "\n",
    "\n",
    "ramseyJacobian2 = np.array([[capital_k, capital_c], [euler_k, euler_c]], dtype='float')\n",
    "\n",
    "print(ramseyJacobian2)\n"
   ]
  },
  {
   "cell_type": "code",
   "execution_count": 39,
   "metadata": {
    "collapsed": false
   },
   "outputs": [
    {
     "ename": "SyntaxError",
     "evalue": "Missing parentheses in call to 'print' (<ipython-input-39-e3e3170addb4>, line 5)",
     "output_type": "error",
     "traceback": [
      "\u001b[1;36m  File \u001b[1;32m\"<ipython-input-39-e3e3170addb4>\"\u001b[1;36m, line \u001b[1;32m5\u001b[0m\n\u001b[1;33m    print ramseyEigenvalues\u001b[0m\n\u001b[1;37m                          ^\u001b[0m\n\u001b[1;31mSyntaxError\u001b[0m\u001b[1;31m:\u001b[0m Missing parentheses in call to 'print'\n"
     ]
    }
   ],
   "source": [
    "# Compute the eigenvalues and eigenvectors of the Jacobian matrix...\n",
    "ramseyEigenvalues, ramseyEigenvectors = np.linalg.eig(ramseyJacobian2)\n",
    "\n",
    "# Display the eigenvalues and eigenvectors...\n",
    "print ramseyEigenvalues\n",
    "print ramseyEigenvectors\n",
    "\n"
   ]
  },
  {
   "cell_type": "code",
   "execution_count": null,
   "metadata": {
    "collapsed": false
   },
   "outputs": [],
   "source": [
    "# finally, can use the built in method for computing jacobian and eigenvalues/vectors\n",
    "ramseyJacobian, ramseyEigenvalues, ramseyEigenvectors = ramsey.stability()\n",
    "\n",
    "\n",
    "print ramseyJacobian\n",
    "print ramseyEigenvalues\n",
    "print ramseyEigenvectors"
   ]
  },
  {
   "cell_type": "code",
   "execution_count": null,
   "metadata": {
    "collapsed": false
   },
   "outputs": [],
   "source": [
    "# create an instance of the Python object representing the Ramsey model\n",
    "ramsey = ramseyModel(params)\n",
    "\n",
    "# pick an initial condition for capital...\n",
    "k0 = 0.5\n",
    "\n",
    "# solve the model!\n",
    "ramsey_solution = ramsey.forward_shoot(k0, tol=1.5e-4)\n"
   ]
  },
  {
   "cell_type": "code",
   "execution_count": 40,
   "metadata": {
    "collapsed": false
   },
   "outputs": [
    {
     "ename": "NameError",
     "evalue": "name 'ramsey_solution' is not defined",
     "output_type": "error",
     "traceback": [
      "\u001b[1;31m---------------------------------------------------------------------------\u001b[0m",
      "\u001b[1;31mNameError\u001b[0m                                 Traceback (most recent call last)",
      "\u001b[1;32m<ipython-input-40-db4e63cacd97>\u001b[0m in \u001b[0;36m<module>\u001b[1;34m()\u001b[0m\n\u001b[0;32m     35\u001b[0m \u001b[1;33m\u001b[0m\u001b[0m\n\u001b[0;32m     36\u001b[0m \u001b[1;31m# Plot the full saddle-path\u001b[0m\u001b[1;33m\u001b[0m\u001b[1;33m\u001b[0m\u001b[0m\n\u001b[1;32m---> 37\u001b[1;33m \u001b[0mplt\u001b[0m\u001b[1;33m.\u001b[0m\u001b[0mplot\u001b[0m\u001b[1;33m(\u001b[0m\u001b[0mramsey_solution\u001b[0m\u001b[1;33m[\u001b[0m\u001b[1;36m1\u001b[0m\u001b[1;33m]\u001b[0m\u001b[1;33m[\u001b[0m\u001b[1;33m:\u001b[0m\u001b[1;33m,\u001b[0m \u001b[1;36m0\u001b[0m\u001b[1;33m]\u001b[0m\u001b[1;33m,\u001b[0m \u001b[0mramsey_solution\u001b[0m\u001b[1;33m[\u001b[0m\u001b[1;36m1\u001b[0m\u001b[1;33m]\u001b[0m\u001b[1;33m[\u001b[0m\u001b[1;33m:\u001b[0m\u001b[1;33m,\u001b[0m \u001b[1;36m1\u001b[0m\u001b[1;33m]\u001b[0m\u001b[1;33m,\u001b[0m \u001b[0mcolor\u001b[0m\u001b[1;33m=\u001b[0m\u001b[1;34m'r'\u001b[0m\u001b[1;33m)\u001b[0m\u001b[1;33m\u001b[0m\u001b[0m\n\u001b[0m\u001b[0;32m     38\u001b[0m \u001b[1;33m\u001b[0m\u001b[0m\n\u001b[0;32m     39\u001b[0m \u001b[1;31m# Don't forget to label your axes!\u001b[0m\u001b[1;33m\u001b[0m\u001b[1;33m\u001b[0m\u001b[0m\n",
      "\u001b[1;31mNameError\u001b[0m: name 'ramsey_solution' is not defined"
     ]
    }
   ],
   "source": [
    "\"\"\"\n",
    "Plot the full saddle path solution!\n",
    "\"\"\"\n",
    "\n",
    "def locusK(k):\n",
    "    \"\"\"\n",
    "    \n",
    "    In order to plot the phase diagram, we need a function that \n",
    "    takes k as an input and return the value of c consistent with \n",
    "    F1(k, c) = 0! \n",
    "    \n",
    "    Inputs:\n",
    "        1) k: capital stock per effective worker\n",
    "        \n",
    "    Returns:\n",
    "        1) c: consumption per effective worker \n",
    "        \n",
    "    \"\"\"\n",
    "    return f(k) - (np.exp(n + g) - np.exp(-delta)) * k\n",
    "\n",
    "# Create a grid of points for plotting\n",
    "gridmax, gridsize = 2000, 100000\n",
    "grid = np.linspace(0, gridmax, gridsize)\n",
    "\n",
    "# Create a new plot\n",
    "plt.figure()\n",
    "\n",
    "# Add the c and k locii\n",
    "plt.plot(grid, locusK(grid), '-', color='orange', label=r'$\\Delta k=0$')\n",
    "plt.axvline(k_star(), color='k', label=r'$\\Delta c=0$')\n",
    "plt.plot(k_star(), c_star(), marker='.', markersize=10, color='k')\n",
    "\n",
    "# Add the initial level of capital per worker\n",
    "plt.axvline(k0, color='k', ls='--', label=r'$k_{0}$')\n",
    "\n",
    "# Plot the full saddle-path\n",
    "plt.plot(ramsey_solution[1][:, 0], ramsey_solution[1][:, 1], color='r')\n",
    "\n",
    "# Don't forget to label your axes!\n",
    "plt.xlim(0, 1)\n",
    "plt.xlabel('k')\n",
    "plt.ylim(0, 4)\n",
    "plt.ylabel('c', rotation='horizontal')\n",
    "\n",
    "# Add a title to the plot\n",
    "plt.title('Saddlepath of the Ramsey economy')\n",
    "\n",
    "# Add a legend\n",
    "plt.legend(frameon=False)\n",
    "plt.show()"
   ]
  },
  {
   "cell_type": "markdown",
   "metadata": {},
   "source": [
    "###### Welfare Analysis\n",
    "###### ------------------------\n",
    "###### Two different ways to analyze welfare in the Ramsey model:\n",
    "###### \n",
    "###### 1. Instantaneous welfare as measured by the flow of utility to the representative individual over time.\n",
    "###### 2. The present discounted value of expected lifetime consumption.\n",
    "###### \n",
    "###### Here we can calculate measure for the full saddle path.\n"
   ]
  },
  {
   "cell_type": "code",
   "execution_count": null,
   "metadata": {
    "collapsed": false
   },
   "outputs": [],
   "source": [
    "plt.plot(ramsey_solution[1][:, 1], color='b', label=r'$c_{Full}$')\n",
    "plt.axhline(c_star(), ls='--', color='k', label=r'$c^{*}$')\n",
    "plt.xlim(0, 200)\n",
    "plt.xlabel('Time')\n",
    "plt.ylabel('Consumption per effective worker, c')\n",
    "\n",
    "# Add the legend\n",
    "plt.legend(loc='best', frameon=False)\n",
    "\n",
    "# Add a title to the plot\n",
    "plt.title('Solution paths of consumption per effective worker, c', weight='bold')\n",
    "plt.show()"
   ]
  },
  {
   "cell_type": "markdown",
   "metadata": {},
   "source": [
    " ##### Then we can plot the flow of utility over time"
   ]
  },
  {
   "cell_type": "code",
   "execution_count": null,
   "metadata": {
    "collapsed": false
   },
   "outputs": [],
   "source": [
    "# Recall that the utility function is defind as follows...\n",
    "def u(C):\n",
    "    \"\"\"\n",
    "    \n",
    "    The Ramsey model assumes that the representative individual has CRRA utility.      \n",
    "    Individual utility is a function of consumption per person, C. The parameter, \n",
    "    0 < theta, plays a dual role: \n",
    "        \n",
    "        1) theta is the agent's coefficient of relative risk aversion\n",
    "        2) 1 / theta is the agent's elasticity of inter-temporal substitution\n",
    "    \n",
    "    N.B.: If theta = 1, then CRRA utility is equivalent to log utility! \n",
    "    \n",
    "    Inputs:\n",
    "        1) C: consumption per worker\n",
    "        \n",
    "    Returns:\n",
    "        1) the value of utility from consumption\n",
    "        \n",
    "    \"\"\"\n",
    "    if theta != 1:\n",
    "        return (C**(1 - theta) - 1) / (1 - theta)\n",
    "    else:\n",
    "        return np.log(C)\n",
    "\n",
    "# Create a grid (useful for plotting technology...recall that consumption per worker C = c * A!)\n",
    "grid = np.arange(0, ramsey_solution[2], 1)\n",
    "\n",
    "# Create a new plot\n",
    "plt.figure(figsize=(8,8))\n",
    "plt.plot(grid, u(ramsey_solution[1][:, 1] * A0 * np.exp(g * grid)), color='b', label=r'$u_{Full}$')\n",
    "\n",
    "# Add the steady state value for capital per effective worker\n",
    "plt.plot(grid, u(c_star() * A0 * np.exp(g * grid)), ls='--', color='k', label=r'$u^{*}$')\n",
    "\n",
    "# Don't forget to label your axes!\n",
    "plt.xlim(0, ramsey_solution[2])\n",
    "plt.xlabel('Time')\n",
    "plt.ylabel('Instantaneous Welfare')\n",
    "\n",
    "# Add the legend\n",
    "plt.legend(loc='best', frameon=False)\n",
    "\n",
    "# Add a title to the plot\n",
    "plt.title('Flow of welfare (i.e., utility) for representative individual')\n",
    "plt.show()"
   ]
  },
  {
   "cell_type": "code",
   "execution_count": null,
   "metadata": {
    "collapsed": false
   },
   "outputs": [],
   "source": [
    "\"\"\"\n",
    "Calculate Hicksian Equivalent Variation\n",
    "\"\"\"\n",
    "\n",
    "# solve via forward shooting algorith to create a consumption stream\n",
    "c_forward = ramsey_solution[1][:, 1]        \n",
    "\n",
    "# create a grid the length of the consumption stream\n",
    "grid10 = np.arange(0, 11, 1)\n",
    "grid15 = np.arange(0, 16, 1)\n",
    "grid20 = np.arange(0, 21, 1)\n",
    "grid25 = np.arange(0, 26, 1)\n",
    "grid_full = np.arange(0, ramsey_solution[2], 1)\n",
    "\n",
    "# U(.) is definied above, if theta=1 then u()= np.log()\n",
    "X_10 = u(c_forward[:11] * A0 * np.exp(g * grid10))\n",
    "X_15 = u(c_forward[:16] * A0 * np.exp(g * grid15))\n",
    "X_20 = u(c_forward[:30] * A0 * np.exp(g * grid20))\n",
    "X_25 = u(c_forward[:26] * A0 * np.exp(g * grid25))\n",
    "X_full = u(c_forward * A0 * np.exp(g * grid_full))\n",
    "\n",
    "Y_10 = u(c_star() * A0 * np.exp(g * grid10))\n",
    "Y_15 = u(c_star() * A0 * np.exp(g * grid15))\n",
    "Y_20 = u(c_star() * A0 * np.exp(g * grid20))\n",
    "Y_25 = u(c_star() * A0 * np.exp(g * grid25))\n",
    "Y_full = u(c_star() * A0 * np.exp(g * grid_full))\n",
    "\n",
    "# Initialize the welfare stream\n",
    "forward_10 = np.zeros(np.size(grid10))\n",
    "forward_15 = np.zeros(np.size(grid15))\n",
    "forward_20 = np.zeros(np.size(grid20))\n",
    "forward_25 = np.zeros(np.size(grid25))\n",
    "forward_full = np.zeros(np.size(grid_full))\n",
    "\n",
    "integrated_10 = np.zeros(np.size(grid10))\n",
    "integrated_15 = np.zeros(np.size(grid15))\n",
    "integrated_20 = np.zeros(np.size(grid20))\n",
    "integrated_25 = np.zeros(np.size(grid25))\n",
    "integrated_full = np.zeros(np.size(grid_full))\n",
    "\n",
    "# calculate the discounted utility stream\n",
    "for i in range(np.size(grid10)):\n",
    "    forward_10[i] = (beta*n)**(i) * X_10[i]\n",
    "    integrated_10[i] = (beta*n)**(i) * Y_10[i]\n",
    "\n",
    "for i in range(np.size(grid15)):\n",
    "    forward_15[i] = (beta*n)**(i) * X_15[i]\n",
    "    integrated_15[i] = (beta*n)**(i) * Y_15[i]\n",
    "    \n",
    "for i in range(np.size(grid20)):\n",
    "    forward_20[i] = (beta*n)**(i) * X_20[i]\n",
    "    integrated_20[i] = (beta*n)**(i) * Y_20[i]    \n",
    "    \n",
    "for i in range(np.size(grid25)):\n",
    "    forward_25[i] = (beta*n)**(i) * X_25[i]\n",
    "    integrated_25[i] = (beta*n)**(i) * Y_25[i]   \n",
    "    \n",
    "for i in range(np.size(grid_full)):\n",
    "    forward_full[i] = (beta*n)**(i) * X_full[i]\n",
    "    integrated_full[i] = (beta*n)**(i) * Y_full[i]\n",
    "    \n",
    "# sum the discounted utility stream to calculate total welfare\n",
    "Forward_10 = np.sum(forward_10)\n",
    "Integrated_10 = np.sum(integrated_10)\n",
    "Forward_15 = np.sum(forward_15)\n",
    "Integrated_15 = np.sum(integrated_15)\n",
    "Forward_20 = np.sum(forward_20)\n",
    "Integrated_20 = np.sum(integrated_20)\n",
    "Forward_25 = np.sum(forward_25)\n",
    "Integrated_25 = np.sum(integrated_25)\n",
    "Forward_welfare = np.sum(forward_full)\n",
    "Integrated_welfare = np.sum(integrated_full)\n",
    "\n",
    "# calculate the Hicksian equivalent variation and print\n",
    "mu_10 = np.e**((1-beta*n)*(1/(1-(beta*n)**11))*(Integrated_10 - Forward_10)) - 1\n",
    "mu_15 = np.e**((1-beta*n)*(1/(1-(beta*n)**16))*(Integrated_15 - Forward_15)) - 1\n",
    "mu_20 = np.e**((1-beta*n)*(1/(1-(beta*n)**21))*(Integrated_20 - Forward_20)) - 1\n",
    "mu_25 = np.e**((1-beta*n)*(1/(1-(beta*n)**26))*(Integrated_25 - Forward_25)) - 1\n",
    "mu_full = np.e**((1-beta*n)*(Integrated_welfare - Forward_welfare)) - 1\n"
   ]
  },
  {
   "cell_type": "code",
   "execution_count": null,
   "metadata": {
    "collapsed": false
   },
   "outputs": [],
   "source": [
    "mu_10, mu_full"
   ]
  },
  {
   "cell_type": "code",
   "execution_count": null,
   "metadata": {
    "collapsed": false
   },
   "outputs": [],
   "source": [
    "forward_10, integrated_10"
   ]
  },
  {
   "cell_type": "code",
   "execution_count": null,
   "metadata": {
    "collapsed": false
   },
   "outputs": [],
   "source": [
    "forward_25, integrated_25\n"
   ]
  },
  {
   "cell_type": "code",
   "execution_count": null,
   "metadata": {
    "collapsed": false
   },
   "outputs": [],
   "source": [
    "c_forward[:10]\n"
   ]
  },
  {
   "cell_type": "code",
   "execution_count": null,
   "metadata": {
    "collapsed": false
   },
   "outputs": [],
   "source": [
    "len(c_forward[:10])"
   ]
  },
  {
   "cell_type": "code",
   "execution_count": null,
   "metadata": {
    "collapsed": false
   },
   "outputs": [],
   "source": [
    "ramsey_solution\n"
   ]
  }
 ],
 "metadata": {
  "kernelspec": {
   "display_name": "Python 3",
   "language": "python",
   "name": "python3"
  },
  "language_info": {
   "codemirror_mode": {
    "name": "ipython",
    "version": 3
   },
   "file_extension": ".py",
   "mimetype": "text/x-python",
   "name": "python",
   "nbconvert_exporter": "python",
   "pygments_lexer": "ipython3",
   "version": "3.4.3"
  }
 },
 "nbformat": 4,
 "nbformat_minor": 0
}
