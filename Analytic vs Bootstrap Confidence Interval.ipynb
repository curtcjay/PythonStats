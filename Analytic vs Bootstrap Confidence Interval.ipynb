{
 "cells": [
  {
   "cell_type": "code",
   "execution_count": 1,
   "metadata": {
    "collapsed": false
   },
   "outputs": [
    {
     "name": "stdout",
     "output_type": "stream",
     "text": [
      "Populating the interactive namespace from numpy and matplotlib\n"
     ]
    }
   ],
   "source": [
    "data = [\n",
    "3.23, -2.5, 1.88, -0.68, 4.43, 0.17,\n",
    "1.03, -0.07, -0.01, 0.76, 1.76, 3.18,\n",
    "0.33, -0.31, 0.3, -0.61, 1.52, 5.43,\n",
    "1.54, 2.28, 0.42, 2.33, -1.03, 4.0,\n",
    "0.39\n",
    "]\n",
    "\n",
    "n = len(data)\n",
    "%pylab inline"
   ]
  },
  {
   "cell_type": "code",
   "execution_count": 2,
   "metadata": {
    "collapsed": false
   },
   "outputs": [
    {
     "name": "stdout",
     "output_type": "stream",
     "text": [
      "Mu: 1.190800\n",
      "Sigma: 1.817554\n",
      "Tau: 4.180677\n"
     ]
    }
   ],
   "source": [
    "mu = mean(data)\n",
    "s = std(data)\n",
    "tau = 1.645*s + mu\n",
    "print \"Mu: %f\\nSigma: %f\\nTau: %f\" % (mu, s, tau)"
   ]
  },
  {
   "cell_type": "markdown",
   "metadata": {},
   "source": [
    "$$ \\tau = g(\\theta) = \\Phi^{-1}(0.95) \\sigma + \\mu \\approx 1.645\\sigma + \\mu$$\n",
    "\n",
    "$$ \\hat{se} = \\sqrt{\\left( \\nabla_{\\theta}g \\right)^T I_n^{-1} \\left( \\nabla_{\\theta}g \\right) } $$\n",
    "\n",
    "Where\n",
    "\n",
    "$$ \\nabla_{\\theta}g = \\begin{pmatrix} 1 \\\\ 1.645 \\end{pmatrix} $$"
   ]
  },
  {
   "cell_type": "code",
   "execution_count": 3,
   "metadata": {
    "collapsed": false
   },
   "outputs": [
    {
     "name": "stdout",
     "output_type": "stream",
     "text": [
      "Analytic estimate of se: 0.557609\n"
     ]
    }
   ],
   "source": [
    "se_hat = s*sqrt(1 + 0.5*1.645**2)/sqrt(n)\n",
    "print \"Analytic estimate of se: %f\" % se_hat"
   ]
  },
  {
   "cell_type": "code",
   "execution_count": 8,
   "metadata": {
    "collapsed": false
   },
   "outputs": [
    {
     "name": "stdout",
     "output_type": "stream",
     "text": [
      "Bootstrap estimate of se: 0.555862\n"
     ]
    }
   ],
   "source": [
    "B = 10000\n",
    "\n",
    "def compute_tau(d):\n",
    "    return 1.645*std(d) + mean(d)\n",
    "\n",
    "bootstrap_samples = [compute_tau(normal(mu, s, size=n)) for i in range(B)]\n",
    "se_boot = std(bootstrap_samples)\n",
    "print \"Bootstrap estimate of se: %f\" % se_boot"
   ]
  },
  {
   "cell_type": "code",
   "execution_count": 9,
   "metadata": {
    "collapsed": false
   },
   "outputs": [
    {
     "name": "stdout",
     "output_type": "stream",
     "text": [
      "95% Confidence Intervals:\n",
      "Analytic\t(0.076, 2.306)\n",
      "Bootstrap\t(0.079, 2.303)\n"
     ]
    }
   ],
   "source": [
    "print \"95% Confidence Intervals:\"\n",
    "print \"Analytic\\t(%.3f, %.3f)\" % (mu-2*se_hat, mu+2*se_hat)\n",
    "print \"Bootstrap\\t(%.3f, %.3f)\" % (mu-2*se_boot, mu+2*se_boot)"
   ]
  },
  {
   "cell_type": "code",
   "execution_count": null,
   "metadata": {
    "collapsed": false
   },
   "outputs": [],
   "source": []
  }
 ],
 "metadata": {
  "kernelspec": {
   "display_name": "Python 3",
   "language": "python",
   "name": "python3"
  },
  "language_info": {
   "codemirror_mode": {
    "name": "ipython",
    "version": 3
   },
   "file_extension": ".py",
   "mimetype": "text/x-python",
   "name": "python",
   "nbconvert_exporter": "python",
   "pygments_lexer": "ipython3",
   "version": "3.4.3"
  }
 },
 "nbformat": 4,
 "nbformat_minor": 0
}
