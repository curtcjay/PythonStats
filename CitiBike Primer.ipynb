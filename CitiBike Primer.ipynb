{
 "cells": [
  {
   "cell_type": "code",
   "execution_count": 106,
   "metadata": {
    "collapsed": false
   },
   "outputs": [
    {
     "name": "stdout",
     "output_type": "stream",
     "text": [
      "Populating the interactive namespace from numpy and matplotlib\n"
     ]
    },
    {
     "name": "stderr",
     "output_type": "stream",
     "text": [
      "WARNING: pylab import has clobbered these variables: ['sample']\n",
      "`%matplotlib` prevents importing * from pylab and numpy\n"
     ]
    }
   ],
   "source": [
    "%pylab inline\n",
    "import pandas as pd"
   ]
  },
  {
   "cell_type": "markdown",
   "metadata": {},
   "source": [
    "## Pandas and Basic Data manipulation\n",
    "The basic structure in pands is the DataFrame.  This is very similar to R's dataframe, and in fact was modeled after it.  You can think of this object as being like a spreadsheet, with columns and rows and header labels.  In pands you can create a DataFrame from many different data structures.  \n",
    "\n",
    "Let's look as some json (javascript object notation) obtained from the web."
   ]
  },
  {
   "cell_type": "code",
   "execution_count": 107,
   "metadata": {
    "collapsed": false
   },
   "outputs": [],
   "source": [
    "import json # a library for dealing with json in python\n",
    "import urllib2 # a library with convenient functions for urls\n",
    "\n",
    "url = \"http://jsonplaceholder.typicode.com/posts\" \n",
    "response = urllib2.urlopen(url)\n",
    "if response.code != 200:\n",
    "    print \"Something went wrong\"\n",
    "\n",
    "# Now that we have a response from the website, let's read the data and convert the \n",
    "# json string into a python data structure for us to use.\n",
    "raw_data = response.read()\n",
    "structured_data = json.loads(raw_data)"
   ]
  },
  {
   "cell_type": "code",
   "execution_count": 108,
   "metadata": {
    "collapsed": false
   },
   "outputs": [
    {
     "name": "stdout",
     "output_type": "stream",
     "text": [
      "The number of objects received is 100\n",
      "Each object is a <type 'dict'>, this is a python data structure that is a hash map.  It has keys and values.\n",
      "\n",
      "Key: body\n",
      "Value: quia et suscipit\n",
      "suscipit recusandae consequuntur expedita et cum\n",
      "reprehenderit molestiae ut ut quas totam\n",
      "nostrum rerum est autem sunt rem eveniet architecto\n",
      "\n",
      "Key: userId\n",
      "Value: 1\n",
      "\n",
      "Key: id\n",
      "Value: 1\n",
      "\n",
      "Key: title\n",
      "Value: sunt aut facere repellat provident occaecati excepturi optio reprehenderit\n",
      "\n"
     ]
    }
   ],
   "source": [
    "print \"The number of objects received is %d\" % len(structured_data)\n",
    "sample = structured_data[0]\n",
    "print \"Each object is a %s, this is a python data structure that is a hash map.  It has keys and values.\\n\" % str(type(sample))\n",
    "for k in sample:\n",
    "    print \"Key: {}\\nValue: {}\\n\".format(k, sample[k])"
   ]
  },
  {
   "cell_type": "markdown",
   "metadata": {},
   "source": [
    "### Now let's use pandas to load this up as a spreadsheet-like object and examine it"
   ]
  },
  {
   "cell_type": "code",
   "execution_count": 111,
   "metadata": {
    "collapsed": false
   },
   "outputs": [
    {
     "name": "stdout",
     "output_type": "stream",
     "text": [
      "Shape:  (100, 4)\n"
     ]
    },
    {
     "data": {
      "text/html": [
       "<div style=\"max-height:1000px;max-width:1500px;overflow:auto;\">\n",
       "<table border=\"1\" class=\"dataframe\">\n",
       "  <thead>\n",
       "    <tr style=\"text-align: right;\">\n",
       "      <th></th>\n",
       "      <th>body</th>\n",
       "      <th>id</th>\n",
       "      <th>title</th>\n",
       "      <th>userId</th>\n",
       "    </tr>\n",
       "  </thead>\n",
       "  <tbody>\n",
       "    <tr>\n",
       "      <th>0</th>\n",
       "      <td> quia et suscipit\\nsuscipit recusandae consequu...</td>\n",
       "      <td> 1</td>\n",
       "      <td> sunt aut facere repellat provident occaecati e...</td>\n",
       "      <td> 1</td>\n",
       "    </tr>\n",
       "    <tr>\n",
       "      <th>1</th>\n",
       "      <td> est rerum tempore vitae\\nsequi sint nihil repr...</td>\n",
       "      <td> 2</td>\n",
       "      <td>                                      qui est esse</td>\n",
       "      <td> 1</td>\n",
       "    </tr>\n",
       "    <tr>\n",
       "      <th>2</th>\n",
       "      <td> et iusto sed quo iure\\nvoluptatem occaecati om...</td>\n",
       "      <td> 3</td>\n",
       "      <td> ea molestias quasi exercitationem repellat qui...</td>\n",
       "      <td> 1</td>\n",
       "    </tr>\n",
       "    <tr>\n",
       "      <th>3</th>\n",
       "      <td> ullam et saepe reiciendis voluptatem adipisci\\...</td>\n",
       "      <td> 4</td>\n",
       "      <td>                              eum et est occaecati</td>\n",
       "      <td> 1</td>\n",
       "    </tr>\n",
       "    <tr>\n",
       "      <th>4</th>\n",
       "      <td> repudiandae veniam quaerat sunt sed\\nalias aut...</td>\n",
       "      <td> 5</td>\n",
       "      <td>                                nesciunt quas odio</td>\n",
       "      <td> 1</td>\n",
       "    </tr>\n",
       "  </tbody>\n",
       "</table>\n",
       "<p>5 rows × 4 columns</p>\n",
       "</div>"
      ],
      "text/plain": [
       "                                                body  id  \\\n",
       "0  quia et suscipit\\nsuscipit recusandae consequu...   1   \n",
       "1  est rerum tempore vitae\\nsequi sint nihil repr...   2   \n",
       "2  et iusto sed quo iure\\nvoluptatem occaecati om...   3   \n",
       "3  ullam et saepe reiciendis voluptatem adipisci\\...   4   \n",
       "4  repudiandae veniam quaerat sunt sed\\nalias aut...   5   \n",
       "\n",
       "                                               title  userId  \n",
       "0  sunt aut facere repellat provident occaecati e...       1  \n",
       "1                                       qui est esse       1  \n",
       "2  ea molestias quasi exercitationem repellat qui...       1  \n",
       "3                               eum et est occaecati       1  \n",
       "4                                 nesciunt quas odio       1  \n",
       "\n",
       "[5 rows x 4 columns]"
      ]
     },
     "execution_count": 111,
     "metadata": {},
     "output_type": "execute_result"
    }
   ],
   "source": [
    "df = pd.DataFrame(structured_data)\n",
    "\n",
    "# What is the shape of the dataframe?\n",
    "print \"Shape: \", df.shape\n",
    "# Look at the top 5 rows to see what we are dealing with.\n",
    "df.head()"
   ]
  },
  {
   "cell_type": "markdown",
   "metadata": {},
   "source": [
    "Notice that the left hand side is numbering the rows.  This is the index.\n",
    "We can set the index to be another one of the values.  For many of the options\n",
    "in pandas, we will have the option of returning a modified object, or modifying\n",
    "the existing object.  e.g.\n",
    "```python\n",
    "df2 = df.set_index('id')                  # create a new dataframe, df2, while df is unaffected\n",
    "df.set_index('id', inplace=True)          # df is changed, notice this method returns None\n",
    "```"
   ]
  },
  {
   "cell_type": "code",
   "execution_count": 114,
   "metadata": {
    "collapsed": false
   },
   "outputs": [
    {
     "data": {
      "text/html": [
       "<div style=\"max-height:1000px;max-width:1500px;overflow:auto;\">\n",
       "<table border=\"1\" class=\"dataframe\">\n",
       "  <thead>\n",
       "    <tr style=\"text-align: right;\">\n",
       "      <th></th>\n",
       "      <th>body</th>\n",
       "      <th>title</th>\n",
       "      <th>userId</th>\n",
       "    </tr>\n",
       "    <tr>\n",
       "      <th>id</th>\n",
       "      <th></th>\n",
       "      <th></th>\n",
       "      <th></th>\n",
       "    </tr>\n",
       "  </thead>\n",
       "  <tbody>\n",
       "    <tr>\n",
       "      <th>1</th>\n",
       "      <td> quia et suscipit\\nsuscipit recusandae consequu...</td>\n",
       "      <td> sunt aut facere repellat provident occaecati e...</td>\n",
       "      <td> 1</td>\n",
       "    </tr>\n",
       "    <tr>\n",
       "      <th>2</th>\n",
       "      <td> est rerum tempore vitae\\nsequi sint nihil repr...</td>\n",
       "      <td>                                      qui est esse</td>\n",
       "      <td> 1</td>\n",
       "    </tr>\n",
       "    <tr>\n",
       "      <th>3</th>\n",
       "      <td> et iusto sed quo iure\\nvoluptatem occaecati om...</td>\n",
       "      <td> ea molestias quasi exercitationem repellat qui...</td>\n",
       "      <td> 1</td>\n",
       "    </tr>\n",
       "    <tr>\n",
       "      <th>4</th>\n",
       "      <td> ullam et saepe reiciendis voluptatem adipisci\\...</td>\n",
       "      <td>                              eum et est occaecati</td>\n",
       "      <td> 1</td>\n",
       "    </tr>\n",
       "    <tr>\n",
       "      <th>5</th>\n",
       "      <td> repudiandae veniam quaerat sunt sed\\nalias aut...</td>\n",
       "      <td>                                nesciunt quas odio</td>\n",
       "      <td> 1</td>\n",
       "    </tr>\n",
       "  </tbody>\n",
       "</table>\n",
       "<p>5 rows × 3 columns</p>\n",
       "</div>"
      ],
      "text/plain": [
       "                                                 body  \\\n",
       "id                                                      \n",
       "1   quia et suscipit\\nsuscipit recusandae consequu...   \n",
       "2   est rerum tempore vitae\\nsequi sint nihil repr...   \n",
       "3   et iusto sed quo iure\\nvoluptatem occaecati om...   \n",
       "4   ullam et saepe reiciendis voluptatem adipisci\\...   \n",
       "5   repudiandae veniam quaerat sunt sed\\nalias aut...   \n",
       "\n",
       "                                                title  userId  \n",
       "id                                                             \n",
       "1   sunt aut facere repellat provident occaecati e...       1  \n",
       "2                                        qui est esse       1  \n",
       "3   ea molestias quasi exercitationem repellat qui...       1  \n",
       "4                                eum et est occaecati       1  \n",
       "5                                  nesciunt quas odio       1  \n",
       "\n",
       "[5 rows x 3 columns]"
      ]
     },
     "execution_count": 114,
     "metadata": {},
     "output_type": "execute_result"
    }
   ],
   "source": [
    "df2 = df.set_index('id')\n",
    "df2.head()"
   ]
  },
  {
   "cell_type": "code",
   "execution_count": 116,
   "metadata": {
    "collapsed": false
   },
   "outputs": [
    {
     "data": {
      "text/plain": [
       "0    sunt aut facere repellat provident occaecati e...\n",
       "1                                         qui est esse\n",
       "2    ea molestias quasi exercitationem repellat qui...\n",
       "3                                 eum et est occaecati\n",
       "4                                   nesciunt quas odio\n",
       "Name: title, dtype: object"
      ]
     },
     "execution_count": 116,
     "metadata": {},
     "output_type": "execute_result"
    }
   ],
   "source": [
    "# I can access columns by passing the string label of column to df\n",
    "df['title'][:5]"
   ]
  },
  {
   "cell_type": "markdown",
   "metadata": {},
   "source": [
    "I can also ask more interesting questions, for instance how may posts has each user made.  To do this I will group by user id, and then apply a function to the group.  This is akin to looking at the `userid` column and bucketing the rows, then applying a function to each bucket.  There are several built in functions, and I can write my own."
   ]
  },
  {
   "cell_type": "code",
   "execution_count": 127,
   "metadata": {
    "collapsed": false
   },
   "outputs": [
    {
     "name": "stdout",
     "output_type": "stream",
     "text": [
      "userId\n",
      "1         10\n",
      "2         10\n",
      "3         10\n",
      "4         10\n",
      "5         10\n",
      "dtype: int64\n",
      "        body  id  title  userId\n",
      "userId                         \n",
      "1         10  10     10      10\n",
      "2         10  10     10      10\n",
      "3         10  10     10      10\n",
      "4         10  10     10      10\n",
      "5         10  10     10      10\n",
      "\n",
      "[5 rows x 4 columns]\n"
     ]
    }
   ],
   "source": [
    "def group_size(group):\n",
    "    return len(group)\n",
    "\n",
    "user_counts = df.groupby('userId').apply(group_size)\n",
    "# but count, sum, mean, etc. are common enough to have built in funtions.\n",
    "# The bultin will count up every column for you (but as they are counts, they are all the same number)\n",
    "user_counts2 = df.groupby('userId').count()\n",
    "\n",
    "print user_counts.head()\n",
    "print user_counts2.head()\n"
   ]
  },
  {
   "cell_type": "markdown",
   "metadata": {},
   "source": [
    "That wasn't very intersting, but it's because we are using a toy web api for testing.\n",
    "\n",
    "## Reading CSV files\n",
    "You can also read local datasets to perform operations on.  CitiBike is a bike sharing program in the city, and they have made their ride information available.  Search for 'citibike api' or 'citibike system data'.  Get the data for December of last year (~12.1 MB) and unzip it.  When opening the file, you can specify a complete path.  If your ipython notebook and your file are in the same directory (folder), you can just specify the file name.  The file format is csv (comma separated values) and is a very simple file format.\n",
    "\n",
    "Let's load the file, see how much data we have, and take a look at the first few rows.  This will load the csv into a pandas DataFrame:"
   ]
  },
  {
   "cell_type": "code",
   "execution_count": 142,
   "metadata": {
    "collapsed": false
   },
   "outputs": [],
   "source": [
    "df = pd.read_csv('201412-citibike-tripdata.csv')"
   ]
  },
  {
   "cell_type": "code",
   "execution_count": 143,
   "metadata": {
    "collapsed": false
   },
   "outputs": [
    {
     "name": "stdout",
     "output_type": "stream",
     "text": [
      "(399069, 15)\n"
     ]
    },
    {
     "data": {
      "text/html": [
       "<div style=\"max-height:1000px;max-width:1500px;overflow:auto;\">\n",
       "<table border=\"1\" class=\"dataframe\">\n",
       "  <thead>\n",
       "    <tr style=\"text-align: right;\">\n",
       "      <th></th>\n",
       "      <th>tripduration</th>\n",
       "      <th>starttime</th>\n",
       "      <th>stoptime</th>\n",
       "      <th>start station id</th>\n",
       "      <th>start station name</th>\n",
       "      <th>start station latitude</th>\n",
       "      <th>start station longitude</th>\n",
       "      <th>end station id</th>\n",
       "      <th>end station name</th>\n",
       "      <th>end station latitude</th>\n",
       "      <th>end station longitude</th>\n",
       "      <th>bikeid</th>\n",
       "      <th>usertype</th>\n",
       "      <th>birth year</th>\n",
       "      <th>gender</th>\n",
       "    </tr>\n",
       "  </thead>\n",
       "  <tbody>\n",
       "    <tr>\n",
       "      <th>0</th>\n",
       "      <td> 1257</td>\n",
       "      <td> 12/1/2014 00:00:28</td>\n",
       "      <td> 12/1/2014 00:21:25</td>\n",
       "      <td> 475</td>\n",
       "      <td>   E 16 St &amp; Irving Pl</td>\n",
       "      <td> 40.735243</td>\n",
       "      <td>-73.987586</td>\n",
       "      <td> 521</td>\n",
       "      <td>      8 Ave &amp; W 31 St</td>\n",
       "      <td> 40.750450</td>\n",
       "      <td>-73.994811</td>\n",
       "      <td> 16047</td>\n",
       "      <td>   Customer</td>\n",
       "      <td>  NaN</td>\n",
       "      <td> 0</td>\n",
       "    </tr>\n",
       "    <tr>\n",
       "      <th>1</th>\n",
       "      <td>  275</td>\n",
       "      <td> 12/1/2014 00:00:43</td>\n",
       "      <td> 12/1/2014 00:05:18</td>\n",
       "      <td> 498</td>\n",
       "      <td>    Broadway &amp; W 32 St</td>\n",
       "      <td> 40.748549</td>\n",
       "      <td>-73.988084</td>\n",
       "      <td> 546</td>\n",
       "      <td> E 30 St &amp; Park Ave S</td>\n",
       "      <td> 40.744449</td>\n",
       "      <td>-73.983035</td>\n",
       "      <td> 18472</td>\n",
       "      <td> Subscriber</td>\n",
       "      <td> 1988</td>\n",
       "      <td> 2</td>\n",
       "    </tr>\n",
       "    <tr>\n",
       "      <th>2</th>\n",
       "      <td>  450</td>\n",
       "      <td> 12/1/2014 00:01:22</td>\n",
       "      <td> 12/1/2014 00:08:52</td>\n",
       "      <td> 444</td>\n",
       "      <td>    Broadway &amp; W 24 St</td>\n",
       "      <td> 40.742354</td>\n",
       "      <td>-73.989151</td>\n",
       "      <td> 434</td>\n",
       "      <td>      9 Ave &amp; W 18 St</td>\n",
       "      <td> 40.743174</td>\n",
       "      <td>-74.003664</td>\n",
       "      <td> 19589</td>\n",
       "      <td> Subscriber</td>\n",
       "      <td> 1983</td>\n",
       "      <td> 1</td>\n",
       "    </tr>\n",
       "    <tr>\n",
       "      <th>3</th>\n",
       "      <td> 1126</td>\n",
       "      <td> 12/1/2014 00:02:17</td>\n",
       "      <td> 12/1/2014 00:21:03</td>\n",
       "      <td> 475</td>\n",
       "      <td>   E 16 St &amp; Irving Pl</td>\n",
       "      <td> 40.735243</td>\n",
       "      <td>-73.987586</td>\n",
       "      <td> 521</td>\n",
       "      <td>      8 Ave &amp; W 31 St</td>\n",
       "      <td> 40.750450</td>\n",
       "      <td>-73.994811</td>\n",
       "      <td> 21142</td>\n",
       "      <td>   Customer</td>\n",
       "      <td>  NaN</td>\n",
       "      <td> 0</td>\n",
       "    </tr>\n",
       "    <tr>\n",
       "      <th>4</th>\n",
       "      <td>  331</td>\n",
       "      <td> 12/1/2014 00:02:21</td>\n",
       "      <td> 12/1/2014 00:07:52</td>\n",
       "      <td> 519</td>\n",
       "      <td> Pershing Square North</td>\n",
       "      <td> 40.751873</td>\n",
       "      <td>-73.977706</td>\n",
       "      <td> 527</td>\n",
       "      <td>      E 33 St &amp; 2 Ave</td>\n",
       "      <td> 40.744023</td>\n",
       "      <td>-73.976056</td>\n",
       "      <td> 18679</td>\n",
       "      <td> Subscriber</td>\n",
       "      <td> 1986</td>\n",
       "      <td> 2</td>\n",
       "    </tr>\n",
       "  </tbody>\n",
       "</table>\n",
       "<p>5 rows × 15 columns</p>\n",
       "</div>"
      ],
      "text/plain": [
       "   tripduration           starttime            stoptime  start station id  \\\n",
       "0          1257  12/1/2014 00:00:28  12/1/2014 00:21:25               475   \n",
       "1           275  12/1/2014 00:00:43  12/1/2014 00:05:18               498   \n",
       "2           450  12/1/2014 00:01:22  12/1/2014 00:08:52               444   \n",
       "3          1126  12/1/2014 00:02:17  12/1/2014 00:21:03               475   \n",
       "4           331  12/1/2014 00:02:21  12/1/2014 00:07:52               519   \n",
       "\n",
       "      start station name  start station latitude  start station longitude  \\\n",
       "0    E 16 St & Irving Pl               40.735243               -73.987586   \n",
       "1     Broadway & W 32 St               40.748549               -73.988084   \n",
       "2     Broadway & W 24 St               40.742354               -73.989151   \n",
       "3    E 16 St & Irving Pl               40.735243               -73.987586   \n",
       "4  Pershing Square North               40.751873               -73.977706   \n",
       "\n",
       "   end station id      end station name  end station latitude  \\\n",
       "0             521       8 Ave & W 31 St             40.750450   \n",
       "1             546  E 30 St & Park Ave S             40.744449   \n",
       "2             434       9 Ave & W 18 St             40.743174   \n",
       "3             521       8 Ave & W 31 St             40.750450   \n",
       "4             527       E 33 St & 2 Ave             40.744023   \n",
       "\n",
       "   end station longitude  bikeid    usertype  birth year  gender  \n",
       "0             -73.994811   16047    Customer         NaN       0  \n",
       "1             -73.983035   18472  Subscriber        1988       2  \n",
       "2             -74.003664   19589  Subscriber        1983       1  \n",
       "3             -73.994811   21142    Customer         NaN       0  \n",
       "4             -73.976056   18679  Subscriber        1986       2  \n",
       "\n",
       "[5 rows x 15 columns]"
      ]
     },
     "execution_count": 143,
     "metadata": {},
     "output_type": "execute_result"
    }
   ],
   "source": [
    "print df.shape\n",
    "df.head()"
   ]
  },
  {
   "cell_type": "markdown",
   "metadata": {},
   "source": [
    "That is an awful lot of rows.  In addition to the freedom you have with functions and transformations, another advantage to pandas is the ability to handle large data sets.  Trying to open this in your default spreadsheet program may crash the program.\n",
    "\n",
    "All of this information is currently a basic data type.  Let's transform the startdate to datetimes, and then add them as a column.  This will make them easier to manipulate and group arbitrarily."
   ]
  },
  {
   "cell_type": "code",
   "execution_count": 144,
   "metadata": {
    "collapsed": false
   },
   "outputs": [
    {
     "data": {
      "text/html": [
       "<div style=\"max-height:1000px;max-width:1500px;overflow:auto;\">\n",
       "<table border=\"1\" class=\"dataframe\">\n",
       "  <thead>\n",
       "    <tr style=\"text-align: right;\">\n",
       "      <th></th>\n",
       "      <th>tripduration</th>\n",
       "      <th>starttime</th>\n",
       "      <th>stoptime</th>\n",
       "      <th>start station id</th>\n",
       "      <th>start station name</th>\n",
       "      <th>start station latitude</th>\n",
       "      <th>start station longitude</th>\n",
       "      <th>end station id</th>\n",
       "      <th>end station name</th>\n",
       "      <th>end station latitude</th>\n",
       "      <th>end station longitude</th>\n",
       "      <th>bikeid</th>\n",
       "      <th>usertype</th>\n",
       "      <th>birth year</th>\n",
       "      <th>gender</th>\n",
       "      <th>date</th>\n",
       "    </tr>\n",
       "  </thead>\n",
       "  <tbody>\n",
       "    <tr>\n",
       "      <th>0</th>\n",
       "      <td> 1257</td>\n",
       "      <td> 12/1/2014 00:00:28</td>\n",
       "      <td> 12/1/2014 00:21:25</td>\n",
       "      <td> 475</td>\n",
       "      <td>   E 16 St &amp; Irving Pl</td>\n",
       "      <td> 40.735243</td>\n",
       "      <td>-73.987586</td>\n",
       "      <td> 521</td>\n",
       "      <td>      8 Ave &amp; W 31 St</td>\n",
       "      <td> 40.750450</td>\n",
       "      <td>-73.994811</td>\n",
       "      <td> 16047</td>\n",
       "      <td>   Customer</td>\n",
       "      <td>  NaN</td>\n",
       "      <td> 0</td>\n",
       "      <td> 12/1/2014</td>\n",
       "    </tr>\n",
       "    <tr>\n",
       "      <th>1</th>\n",
       "      <td>  275</td>\n",
       "      <td> 12/1/2014 00:00:43</td>\n",
       "      <td> 12/1/2014 00:05:18</td>\n",
       "      <td> 498</td>\n",
       "      <td>    Broadway &amp; W 32 St</td>\n",
       "      <td> 40.748549</td>\n",
       "      <td>-73.988084</td>\n",
       "      <td> 546</td>\n",
       "      <td> E 30 St &amp; Park Ave S</td>\n",
       "      <td> 40.744449</td>\n",
       "      <td>-73.983035</td>\n",
       "      <td> 18472</td>\n",
       "      <td> Subscriber</td>\n",
       "      <td> 1988</td>\n",
       "      <td> 2</td>\n",
       "      <td> 12/1/2014</td>\n",
       "    </tr>\n",
       "    <tr>\n",
       "      <th>2</th>\n",
       "      <td>  450</td>\n",
       "      <td> 12/1/2014 00:01:22</td>\n",
       "      <td> 12/1/2014 00:08:52</td>\n",
       "      <td> 444</td>\n",
       "      <td>    Broadway &amp; W 24 St</td>\n",
       "      <td> 40.742354</td>\n",
       "      <td>-73.989151</td>\n",
       "      <td> 434</td>\n",
       "      <td>      9 Ave &amp; W 18 St</td>\n",
       "      <td> 40.743174</td>\n",
       "      <td>-74.003664</td>\n",
       "      <td> 19589</td>\n",
       "      <td> Subscriber</td>\n",
       "      <td> 1983</td>\n",
       "      <td> 1</td>\n",
       "      <td> 12/1/2014</td>\n",
       "    </tr>\n",
       "    <tr>\n",
       "      <th>3</th>\n",
       "      <td> 1126</td>\n",
       "      <td> 12/1/2014 00:02:17</td>\n",
       "      <td> 12/1/2014 00:21:03</td>\n",
       "      <td> 475</td>\n",
       "      <td>   E 16 St &amp; Irving Pl</td>\n",
       "      <td> 40.735243</td>\n",
       "      <td>-73.987586</td>\n",
       "      <td> 521</td>\n",
       "      <td>      8 Ave &amp; W 31 St</td>\n",
       "      <td> 40.750450</td>\n",
       "      <td>-73.994811</td>\n",
       "      <td> 21142</td>\n",
       "      <td>   Customer</td>\n",
       "      <td>  NaN</td>\n",
       "      <td> 0</td>\n",
       "      <td> 12/1/2014</td>\n",
       "    </tr>\n",
       "    <tr>\n",
       "      <th>4</th>\n",
       "      <td>  331</td>\n",
       "      <td> 12/1/2014 00:02:21</td>\n",
       "      <td> 12/1/2014 00:07:52</td>\n",
       "      <td> 519</td>\n",
       "      <td> Pershing Square North</td>\n",
       "      <td> 40.751873</td>\n",
       "      <td>-73.977706</td>\n",
       "      <td> 527</td>\n",
       "      <td>      E 33 St &amp; 2 Ave</td>\n",
       "      <td> 40.744023</td>\n",
       "      <td>-73.976056</td>\n",
       "      <td> 18679</td>\n",
       "      <td> Subscriber</td>\n",
       "      <td> 1986</td>\n",
       "      <td> 2</td>\n",
       "      <td> 12/1/2014</td>\n",
       "    </tr>\n",
       "  </tbody>\n",
       "</table>\n",
       "<p>5 rows × 16 columns</p>\n",
       "</div>"
      ],
      "text/plain": [
       "   tripduration           starttime            stoptime  start station id  \\\n",
       "0          1257  12/1/2014 00:00:28  12/1/2014 00:21:25               475   \n",
       "1           275  12/1/2014 00:00:43  12/1/2014 00:05:18               498   \n",
       "2           450  12/1/2014 00:01:22  12/1/2014 00:08:52               444   \n",
       "3          1126  12/1/2014 00:02:17  12/1/2014 00:21:03               475   \n",
       "4           331  12/1/2014 00:02:21  12/1/2014 00:07:52               519   \n",
       "\n",
       "      start station name  start station latitude  start station longitude  \\\n",
       "0    E 16 St & Irving Pl               40.735243               -73.987586   \n",
       "1     Broadway & W 32 St               40.748549               -73.988084   \n",
       "2     Broadway & W 24 St               40.742354               -73.989151   \n",
       "3    E 16 St & Irving Pl               40.735243               -73.987586   \n",
       "4  Pershing Square North               40.751873               -73.977706   \n",
       "\n",
       "   end station id      end station name  end station latitude  \\\n",
       "0             521       8 Ave & W 31 St             40.750450   \n",
       "1             546  E 30 St & Park Ave S             40.744449   \n",
       "2             434       9 Ave & W 18 St             40.743174   \n",
       "3             521       8 Ave & W 31 St             40.750450   \n",
       "4             527       E 33 St & 2 Ave             40.744023   \n",
       "\n",
       "   end station longitude  bikeid    usertype  birth year  gender       date  \n",
       "0             -73.994811   16047    Customer         NaN       0  12/1/2014  \n",
       "1             -73.983035   18472  Subscriber        1988       2  12/1/2014  \n",
       "2             -74.003664   19589  Subscriber        1983       1  12/1/2014  \n",
       "3             -73.994811   21142    Customer         NaN       0  12/1/2014  \n",
       "4             -73.976056   18679  Subscriber        1986       2  12/1/2014  \n",
       "\n",
       "[5 rows x 16 columns]"
      ]
     },
     "execution_count": 144,
     "metadata": {},
     "output_type": "execute_result"
    }
   ],
   "source": [
    "# import datetime\n",
    "# def convert_to_date(x):\n",
    "#     return datetime.datetime.strptime(x, \"%m/%d/%Y %H:%M:%S\")\n",
    "\n",
    "# df['datetime'] = df['starttime'].apply(convert_to_date)\n",
    "# df['date'] = df['datetime'].apply(lambda x: x.date)\n",
    "\n",
    "df['date'] = df['starttime'].apply(lambda x: x.split()[0])\n",
    "df.head()"
   ]
  },
  {
   "cell_type": "markdown",
   "metadata": {},
   "source": [
    "Now look at how many rides are taken each day.  We can do this by grouping by date, then taking the count.  Then we pick the appropriate column, in this case `tripduration`.  This will give us a Series (effectively a 1-d DataFrame)"
   ]
  },
  {
   "cell_type": "code",
   "execution_count": 149,
   "metadata": {
    "collapsed": false
   },
   "outputs": [
    {
     "data": {
      "text/plain": [
       "date\n",
       "12/1/2014     18519\n",
       "12/10/2014    10399\n",
       "12/11/2014    18141\n",
       "12/12/2014    17892\n",
       "12/13/2014    12549\n",
       "Name: tripduration, dtype: int64"
      ]
     },
     "execution_count": 149,
     "metadata": {},
     "output_type": "execute_result"
    }
   ],
   "source": [
    "s = df.groupby('date').count()['tripduration']\n",
    "s.head()"
   ]
  },
  {
   "cell_type": "markdown",
   "metadata": {},
   "source": [
    "Now we have a list of values.  In fact, we can cast this as a list if we like:\n",
    "```python\n",
    "daily_trip_counts = list(s)\n",
    "```\n",
    "But this gets rid of a lot of the useful features that the Series structure has.  For instance the index that tells us on what date the count occured, or methods that let us find relavent summary statistics easily:"
   ]
  },
  {
   "cell_type": "code",
   "execution_count": 151,
   "metadata": {
    "collapsed": false
   },
   "outputs": [
    {
     "data": {
      "text/plain": [
       "count       31.000000\n",
       "mean     12873.193548\n",
       "std       4854.495088\n",
       "min       4047.000000\n",
       "25%       9660.500000\n",
       "50%      12549.000000\n",
       "75%      17008.000000\n",
       "max      21335.000000\n",
       "Name: tripduration, dtype: float64"
      ]
     },
     "execution_count": 151,
     "metadata": {},
     "output_type": "execute_result"
    }
   ],
   "source": [
    "# Compute all the basic stats for a dataframe or series with the describe method\n",
    "s.describe()"
   ]
  },
  {
   "cell_type": "markdown",
   "metadata": {},
   "source": [
    "What about if we just want average trip length?  In this case there is no grouping or fancy transformation, we just want the mean of a column.  It is measured in seconds."
   ]
  },
  {
   "cell_type": "code",
   "execution_count": 155,
   "metadata": {
    "collapsed": false
   },
   "outputs": [
    {
     "data": {
      "text/plain": [
       "745.75784889329918"
      ]
     },
     "execution_count": 155,
     "metadata": {},
     "output_type": "execute_result"
    }
   ],
   "source": [
    "df['tripduration'].mean()"
   ]
  },
  {
   "cell_type": "code",
   "execution_count": null,
   "metadata": {
    "collapsed": false
   },
   "outputs": [],
   "source": []
  }
 ],
 "metadata": {
  "kernelspec": {
   "display_name": "Python 3",
   "language": "python",
   "name": "python3"
  },
  "language_info": {
   "codemirror_mode": {
    "name": "ipython",
    "version": 3
   },
   "file_extension": ".py",
   "mimetype": "text/x-python",
   "name": "python",
   "nbconvert_exporter": "python",
   "pygments_lexer": "ipython3",
   "version": "3.4.3"
  }
 },
 "nbformat": 4,
 "nbformat_minor": 0
}
