{
 "cells": [
  {
   "cell_type": "code",
   "execution_count": 8,
   "metadata": {
    "collapsed": false
   },
   "outputs": [
    {
     "name": "stdout",
     "output_type": "stream",
     "text": [
      "        Bin                Prob.              Expected             Actual               Diff             Chi-square     \n",
      "    (-inf, -2.5)          0.00621             0.62097                0                -0.62097            0.62097       \n",
      "    (-2.5, -2.0)          0.01654             1.65405                2                0.34595             0.07236       \n",
      "    (-2.0, -1.5)          0.04406             4.40571                4                -0.40571            0.03736       \n",
      "    (-1.5, -1.0)          0.09185             9.18481                10               0.81519             0.07235       \n",
      "    (-1.0, -0.5)          0.14988             14.98823               15               0.01177             0.00001       \n",
      "    (-0.5, 0.0)           0.19146             19.14625               19               -0.14625            0.00112       \n",
      "     (0.0, 0.5)           0.19146             19.14625               19               -0.14625            0.00112       \n",
      "     (0.5, 1.0)           0.14988             14.98823               15               0.01177             0.00001       \n",
      "     (1.0, 1.5)           0.09185             9.18481                10               0.81519             0.07235       \n",
      "     (1.5, 2.0)           0.04406             4.40571                4                -0.40571            0.03736       \n",
      "     (2.0, 2.5)           0.01654             1.65405                2                0.34595             0.07236       \n",
      "     (2.5, inf)           0.00621             0.62097                0                -0.62097            0.62097       \n"
     ]
    }
   ],
   "source": [
    "from scipy.stats import norm, chisquare\n",
    "import pandas as pd\n",
    "\n",
    "figsize(18, 6)\n",
    "\n",
    "housefly_wings = [36,37,38,38,39,39,40,40,40,40,41,41,41,41,41,41,42,42,42,42,42,42,42,43,43,43,43,43,43,43,43,44,44,44,44,44,44,\n",
    "         44,44,44,45,45,45,45,45,45,45,45,45,45,46,46,46,46,46,46,46,46,46,46,47,47,47,47,47,47,47,47,47,48,48,48,48,48,\n",
    "         48,48,48,49,49,49,49,49,49,49,50,50,50,50,50,50,51,51,51,51,52,52,53,53,54,55]\n",
    "\n",
    "\n",
    "pos_inf = float('+inf')\n",
    "neg_inf = float('-inf')\n",
    "special_boundaries = ([neg_inf, -2.5, -2. , -1.5, -1. , -0.5,  0. ,  0.5,  1. ,  1.5,  2. , 2.5,pos_inf])\n",
    "special_bins = zip(special_boundaries[:-1], special_boundaries[1:])\n",
    "\n",
    "normalized_wings = (housefly_wings - mean(housefly_wings))/std(housefly_wings)\n",
    "N = len(normalized_wings)\n",
    "\n",
    "probability_of_bin = []\n",
    "expected_count = []\n",
    "actual_count = []\n",
    "diffs = []\n",
    "chi_square = []\n",
    "\n",
    "for _bin in special_bins:\n",
    "    a, b = _bin\n",
    "    \n",
    "    p = norm.cdf(b) - norm.cdf(a)\n",
    "    probability_of_bin.append(p)\n",
    "\n",
    "    x = p*N\n",
    "    expected_count.append(x)\n",
    "    \n",
    "    actual = len([y for y in normalized_wings if a <= y < b])\n",
    "    actual_count.append(actual)\n",
    "    \n",
    "    d = actual - x\n",
    "    diffs.append(d)\n",
    "    chi_square.append(d**2/x)\n",
    "    \n",
    "print \"{:^20}{:^20}{:^20}{:^20}{:^20}{:^20}\".format(\"Bin\", \"Prob.\", \"Expected\", \"Actual\", \"Diff\", \"Chi-square\")\n",
    "for i in range(len(special_bins)):\n",
    "    print \"{:^20}{:^20.5f}{:^20.5f}{:^20}{:^20.5f}{:^20.5f}\".format(\n",
    "        special_bins[i], probability_of_bin[i], expected_count[i], actual_count[i], diffs[i], chi_square[i])\n",
    "\n"
   ]
  }
 ],
 "metadata": {
  "kernelspec": {
   "display_name": "Python 3",
   "language": "python",
   "name": "python3"
  },
  "language_info": {
   "codemirror_mode": {
    "name": "ipython",
    "version": 3
   },
   "file_extension": ".py",
   "mimetype": "text/x-python",
   "name": "python",
   "nbconvert_exporter": "python",
   "pygments_lexer": "ipython3",
   "version": "3.4.3"
  }
 },
 "nbformat": 4,
 "nbformat_minor": 0
}
