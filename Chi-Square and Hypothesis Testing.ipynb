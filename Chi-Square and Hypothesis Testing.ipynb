{
 "cells": [
  {
   "cell_type": "markdown",
   "metadata": {},
   "source": [
    "# $\\chi^2$ and Hypothesis testing"
   ]
  },
  {
   "cell_type": "markdown",
   "metadata": {},
   "source": [
    "###The following data set is the length of the wings of a species of fly in mm."
   ]
  },
  {
   "cell_type": "code",
   "execution_count": 1,
   "metadata": {
    "collapsed": false
   },
   "outputs": [
    {
     "name": "stdout",
     "output_type": "stream",
     "text": [
      "Populating the interactive namespace from numpy and matplotlib\n"
     ]
    }
   ],
   "source": [
    "%pylab inline\n",
    "from scipy.stats import norm, chisquare\n",
    "import pandas as pd\n",
    "\n",
    "figsize(18, 6)\n",
    "\n",
    "housefly_wings = [36,37,38,38,39,39,40,40,40,40,41,41,41,41,41,41,42,42,42,42,42,42,42,43,43,43,43,43,43,43,43,44,44,44,44,44,44,\n",
    "         44,44,44,45,45,45,45,45,45,45,45,45,45,46,46,46,46,46,46,46,46,46,46,47,47,47,47,47,47,47,47,47,48,48,48,48,48,\n",
    "         48,48,48,49,49,49,49,49,49,49,50,50,50,50,50,50,51,51,51,51,52,52,53,53,54,55]"
   ]
  },
  {
   "cell_type": "code",
   "execution_count": 3,
   "metadata": {
    "collapsed": false
   },
   "outputs": [
    {
     "data": {
      "image/png": "[encoded data removed]",
      "text/plain": [
       "<matplotlib.figure.Figure at 0x8852c88>"
      ]
     },
     "metadata": {},
     "output_type": "display_data"
    }
   ],
   "source": [
    "_ = hist(housefly_wings)"
   ]
  },
  {
   "cell_type": "markdown",
   "metadata": {},
   "source": [
    "###Looking at this histogram, I think that the distribution looks pretty normal.  I am going to test the assumption.  My null hypothesis is that this is a normal distribution with $\\mu=\\bar{X}$ and $\\sigma^2=s^2$ using a goodness of fit test with $\\chi^2$.  This is a little bit of a cheat, as I am using the MLE of $\\theta$."
   ]
  },
  {
   "cell_type": "code",
   "execution_count": 5,
   "metadata": {
    "collapsed": false
   },
   "outputs": [
    {
     "name": "stdout",
     "output_type": "stream",
     "text": [
      "[-2.43589744 -2.17948718 -1.92307692 -1.92307692 -1.66666667 -1.66666667\n",
      " -1.41025641 -1.41025641 -1.41025641 -1.41025641 -1.15384615 -1.15384615\n",
      " -1.15384615 -1.15384615 -1.15384615 -1.15384615 -0.8974359  -0.8974359\n",
      " -0.8974359  -0.8974359  -0.8974359  -0.8974359  -0.8974359  -0.64102564\n",
      " -0.64102564 -0.64102564 -0.64102564 -0.64102564 -0.64102564 -0.64102564\n",
      " -0.64102564 -0.38461538 -0.38461538 -0.38461538 -0.38461538 -0.38461538\n",
      " -0.38461538 -0.38461538 -0.38461538 -0.38461538 -0.12820513 -0.12820513\n",
      " -0.12820513 -0.12820513 -0.12820513 -0.12820513 -0.12820513 -0.12820513\n",
      " -0.12820513 -0.12820513  0.12820513  0.12820513  0.12820513  0.12820513\n",
      "  0.12820513  0.12820513  0.12820513  0.12820513  0.12820513  0.12820513\n",
      "  0.38461538  0.38461538  0.38461538  0.38461538  0.38461538  0.38461538\n",
      "  0.38461538  0.38461538  0.38461538  0.64102564  0.64102564  0.64102564\n",
      "  0.64102564  0.64102564  0.64102564  0.64102564  0.64102564  0.8974359\n",
      "  0.8974359   0.8974359   0.8974359   0.8974359   0.8974359   0.8974359\n",
      "  1.15384615  1.15384615  1.15384615  1.15384615  1.15384615  1.15384615\n",
      "  1.41025641  1.41025641  1.41025641  1.41025641  1.66666667  1.66666667\n",
      "  1.92307692  1.92307692  2.17948718  2.43589744]\n"
     ]
    }
   ],
   "source": [
    "normalized_wings = (housefly_wings - mean(housefly_wings))/std(housefly_wings)\n",
    "N = len(normalized_wings)\n",
    "print(normalized_wings)"
   ]
  },
  {
   "cell_type": "code",
   "execution_count": 33,
   "metadata": {
    "collapsed": false
   },
   "outputs": [
    {
     "data": {
      "text/plain": [
       "array([-2.5, -2. , -1.5, -1. , -0.5,  0. ,  0.5,  1. ,  1.5,  2. ,  2.5])"
      ]
     },
     "execution_count": 33,
     "metadata": {},
     "output_type": "execute_result"
    }
   ],
   "source": [
    "boundaries = linspace(-2.5, 2.5, 11)\n",
    "bins = [(-2.5, -2. , -1.5, -1. , -0.5,  (0. ,  0.5),  (1. ,  1.5),  (2. ,  2.5)]\n",
    "\n",
    "probability_of_bin = []\n",
    "expected_count = []\n",
    "actual_count = []\n",
    "diffs = []\n",
    "chi_square = []\n",
    "\n",
    "for _bin in bins:\n",
    "    a, b = _bin\n",
    "    \n",
    "    p = norm.cdf(b) - norm.cdf(a)\n",
    "    probability_of_bin.append(p)\n",
    "\n",
    "    x = p*N\n",
    "    expected_count.append(x)\n",
    "    \n",
    "    actual = len([y for y in normalized_wings if a <= y < b])\n",
    "    actual_count.append(actual)\n",
    "    \n",
    "    d = actual - x\n",
    "    diffs.append(d)\n",
    "    chi_square.append(d**2/x)\n",
    "\n",
    "boundaries        \n",
    "#print('{:^20}{:^20}{:^20}{:^20}{:^20}{:^20}'.format(\"Bin\", \"Prob.\", \"Expected\", \"Actual\", \"Diff\", \"Chi-square\"))\n",
    "#for i in range(10):\n",
    "#    print('{:^20}{:^20.5f}{:^20.5f}{:^20}{:^20.5f}{:^20.5f}'.format(bins[i], probability_of_bin[i], \n",
    "#                                                                  expected_count[i], actual_count[i], \n",
    "#                                                                  diffs[i], chi_square[i]))\n",
    "    \n"
   ]
  },
  {
   "cell_type": "code",
   "execution_count": 34,
   "metadata": {
    "collapsed": false
   },
   "outputs": [
    {
     "name": "stdout",
     "output_type": "stream",
     "text": [
      "The test statistic is: 0.36639\n",
      "The chi-square, 7 degrees of freedom p-value is: 0.99980\n"
     ]
    }
   ],
   "source": [
    "test_statistic, p_val = chisquare(actual_count, expected_count, 2)\n",
    "print('The test statistic is: {:.5f}'.format(sum(chi_square)))\n",
    "print('The chi-square, {} degrees of freedom p-value is: {:.5f}'.format(len(actual_count)-1-2, p_val)) "
   ]
  },
  {
   "cell_type": "markdown",
   "metadata": {},
   "source": [
    "###We do not reject $H_0$"
   ]
  },
  {
   "cell_type": "code",
   "execution_count": 35,
   "metadata": {
    "collapsed": false
   },
   "outputs": [
    {
     "ename": "ImportError",
     "evalue": "No module named 'tweepy'",
     "output_type": "error",
     "traceback": [
      "\u001b[1;31m---------------------------------------------------------------------------\u001b[0m",
      "\u001b[1;31mImportError\u001b[0m                               Traceback (most recent call last)",
      "\u001b[1;32m<ipython-input-35-e3daba58323a>\u001b[0m in \u001b[0;36m<module>\u001b[1;34m()\u001b[0m\n\u001b[0;32m      6\u001b[0m \u001b[0mACCESS_TOKEN_SECRET\u001b[0m\u001b[1;33m=\u001b[0m\u001b[1;34m\"RMbv9GvIKpcFgkCxNP0KuYt9fUF21EZ8lLrw7VXXVVtaQ\"\u001b[0m\u001b[1;33m\u001b[0m\u001b[0m\n\u001b[0;32m      7\u001b[0m \u001b[1;33m\u001b[0m\u001b[0m\n\u001b[1;32m----> 8\u001b[1;33m \u001b[1;32mimport\u001b[0m \u001b[0mtweepy\u001b[0m\u001b[1;33m\u001b[0m\u001b[0m\n\u001b[0m\u001b[0;32m      9\u001b[0m \u001b[1;32mimport\u001b[0m \u001b[0mdatetime\u001b[0m\u001b[1;33m\u001b[0m\u001b[0m\n\u001b[0;32m     10\u001b[0m \u001b[1;33m\u001b[0m\u001b[0m\n",
      "\u001b[1;31mImportError\u001b[0m: No module named 'tweepy'"
     ]
    }
   ],
   "source": [
    "# These are specifically for class.  If you would like to run your own experiments, please visit dev.twitter.com\n",
    "\n",
    "CONSUMER_KEY=\"HpvRdxSAri7T7NaQJ3UyB78Cb\"\n",
    "CONSUMER_SECRET=\"LBxZ4n1AThk0YMHk7c0C4NS44y1Y47eh8tjzXgpQcrd8mI6RLP\"\n",
    "ACCESS_TOKEN=\"3152137521-k5jRNoO76w7ZAXvHExOmjN8hvABa7SljE4D5NUD\"\n",
    "ACCESS_TOKEN_SECRET=\"RMbv9GvIKpcFgkCxNP0KuYt9fUF21EZ8lLrw7VXXVVtaQ\"\n",
    "\n",
    "import tweepy\n",
    "import datetime\n",
    "\n",
    "def _get_twitter_api():\n",
    "    \"\"\" Return api for twitter using tweepy \"\"\"\n",
    "    auth = tweepy.OAuthHandler(CONSUMER_KEY, CONSUMER_SECRET)\n",
    "    auth.set_access_token(ACCESS_TOKEN, ACCESS_TOKEN_SECRET)\n",
    "    api = tweepy.API(auth)\n",
    "    return api\n",
    "\n",
    "def get_tweets(screen_name, count=100, include_retweets=False):\n",
    "    api = _get_twitter_api()\n",
    "    cursor = tweepy.Cursor(api.user_timeline, id=screen_name, count=count)\n",
    "    tweets = [tweet for tweet in cursor.items(count)]\n",
    "    if include_retweets:\n",
    "        return tweets \n",
    "    return [t for t in tweets if not hasattr(t, 'retweeted_status')]"
   ]
  },
  {
   "cell_type": "code",
   "execution_count": 170,
   "metadata": {
    "collapsed": false
   },
   "outputs": [],
   "source": [
    "tweets = get_tweets('thejoshpatten', 1000, True)"
   ]
  },
  {
   "cell_type": "code",
   "execution_count": 171,
   "metadata": {
    "collapsed": false
   },
   "outputs": [],
   "source": [
    "times = [t.created_at for t in tweets]\n",
    "times.sort()\n",
    "timedeltas = [(times[i+1]-times[i]).total_seconds() for i in range(len(times)-1)]"
   ]
  },
  {
   "cell_type": "code",
   "execution_count": 172,
   "metadata": {
    "collapsed": false
   },
   "outputs": [
    {
     "data": {
      "text/plain": [
       "count       999.000000\n",
       "mean      20414.348348\n",
       "std       29297.071978\n",
       "min           2.000000\n",
       "5.0%         91.900000\n",
       "50%        7200.000000\n",
       "95%       77829.000000\n",
       "max      218599.000000\n",
       "dtype: float64"
      ]
     },
     "execution_count": 172,
     "metadata": {},
     "output_type": "execute_result"
    }
   ],
   "source": [
    "df = pd.Series(timedeltas)\n",
    "df.describe(90)"
   ]
  },
  {
   "cell_type": "code",
   "execution_count": 173,
   "metadata": {
    "collapsed": false
   },
   "outputs": [
    {
     "data": {
      "image/png": "[encoded data removed]",
      "text/plain": [
       "<matplotlib.figure.Figure at 0x113384090>"
      ]
     },
     "metadata": {},
     "output_type": "display_data"
    }
   ],
   "source": [
    "_max = 90000\n",
    "_bins = 40\n",
    "mod = [x for x in timedeltas if x < _max]\n",
    "_ = hist(mod, bins=_bins)"
   ]
  },
  {
   "cell_type": "markdown",
   "metadata": {},
   "source": [
    "###I would like to test if this is an exponential distribution.\n",
    "$$ cdf(x) = 1 - e^{-\\tilde{\\lambda} x}$$ "
   ]
  },
  {
   "cell_type": "code",
   "execution_count": 174,
   "metadata": {
    "collapsed": false
   },
   "outputs": [
    {
     "name": "stdout",
     "output_type": "stream",
     "text": [
      "        Bin                Prob.              Expected             Actual               Diff             Chi-square     \n",
      "(       0.0, 2307.7    )      0.12668            122.63057              341              218.36943           388.85252      \n",
      "(    2307.7, 4615.4    )      0.11064            107.09518               88              -19.09518            3.40469       \n",
      "(    4615.4, 6923.1    )      0.09662             93.52789               64              -29.52789            9.32231       \n",
      "(    6923.1, 9230.8    )      0.08438             81.67935               41              -40.67935            20.25983      \n",
      "(    9230.8, 11538.5   )      0.07369             71.33185               41              -30.33185            12.89776      \n",
      "(   11538.5, 13846.2   )      0.06435             62.29521               47              -15.29521            3.75540       \n",
      "(   13846.2, 16153.8   )      0.05620             54.40337               28              -26.40337            12.81425      \n",
      "(   16153.8, 18461.5   )      0.04908             47.51131               16              -31.51131            20.89950      \n",
      "(   18461.5, 20769.2   )      0.04286             41.49237               13              -28.49237            19.56540      \n",
      "(   20769.2, 23076.9   )      0.03743             36.23593               23              -13.23593            4.83470       \n",
      "(   23076.9, 25384.6   )      0.03269             31.64540               22               -9.64540            2.93988       \n",
      "(   25384.6, 27692.3   )      0.02855             27.63642               10              -17.63642            11.25483      \n",
      "(   27692.3, 30000.0   )      0.02493             24.13531               14              -10.13531            4.25619       \n",
      "(   30000.0, 32307.7   )      0.02177             21.07774               14               -7.07774            2.37665       \n",
      "(   32307.7, 34615.4   )      0.01902             18.40752               17               -1.40752            0.10763       \n",
      "(   34615.4, 36923.1   )      0.01661             16.07557               15               -1.07557            0.07196       \n",
      "(   36923.1, 39230.8   )      0.01450             14.03905               14               -0.03905            0.00011       \n",
      "(   39230.8, 41538.5   )      0.01267             12.26052               17               4.73948             1.83212       \n",
      "(   41538.5, 43846.2   )      0.01106             10.70730               11               0.29270             0.00800       \n",
      "(   43846.2, 46153.8   )      0.00966             9.35085                8                -1.35085            0.19515       \n",
      "(   46153.8, 48461.5   )      0.00844             8.16624                7                -1.16624            0.16655       \n",
      "(   48461.5, 50769.2   )      0.00737             7.13171                10               2.86829             1.15359       \n",
      "(   50769.2, 53076.9   )      0.00643             6.22823                5                -1.22823            0.24221       \n",
      "(   53076.9, 55384.6   )      0.00562             5.43921                9                3.56079             2.33108       \n",
      "(   55384.6, 57692.3   )      0.00491             4.75015                10               5.24985             5.80213       \n",
      "(   57692.3, 60000.0   )      0.00429             4.14838                12               7.85162             14.86074      \n",
      "(   60000.0, 62307.7   )      0.00374             3.62284                9                5.37716             7.98098       \n",
      "(   62307.7, 64615.4   )      0.00327             3.16388                6                2.83612             2.54230       \n",
      "(   64615.4, 66923.1   )      0.00285             2.76307                9                6.23693             14.07829      \n",
      "(   66923.1, 69230.8   )      0.00249             2.41303                4                1.58697             1.04370       \n",
      "(   69230.8, 71538.5   )      0.00218             2.10734                8                5.89266             16.47741      \n",
      "(   71538.5, 73846.2   )      0.00190             1.84037                6                4.15963             9.40165       \n",
      "(   73846.2, 76153.8   )      0.00166             1.60722                8                6.39278             25.42742      \n",
      "(   76153.8, 78461.5   )      0.00145             1.40361                2                0.59639             0.25340       \n",
      "(   78461.5, 80769.2   )      0.00127             1.22580                3                1.77420             2.56795       \n",
      "(   80769.2, 83076.9   )      0.00111             1.07051                6                4.92949             22.69939      \n",
      "(   83076.9, 85384.6   )      0.00097             0.93489                4                3.06511             10.04918      \n",
      "(   85384.6, 87692.3   )      0.00084             0.81646                5                4.18354             21.43662      \n",
      "(   87692.3, 90000.0   )      0.00074             0.71302                1                0.28698             0.11550       \n",
      "\n",
      "\n",
      "The test statistic is: 678.27898\n",
      "The chi-square, 36 degrees of freedom p-value is 0.00000\n"
     ]
    }
   ],
   "source": [
    "boundaries = linspace(0, _max, _bins)\n",
    "bins = zip(boundaries[:-1], boundaries[1:])\n",
    "N = len(mod)\n",
    "\n",
    "probability_of_bin = []\n",
    "expected_count = []\n",
    "actual_count = []\n",
    "diffs = []\n",
    "chi_square = []\n",
    "\n",
    "mu = sum(mod)*1.0/len(mod)\n",
    "lam = 1/mu\n",
    "guess_cdf = lambda x: 1-exp(-lam*x)\n",
    "\n",
    "for _bin in bins:\n",
    "    a, b = _bin\n",
    "    \n",
    "    p = guess_cdf(b) - guess_cdf(a)\n",
    "    probability_of_bin.append(p)\n",
    "\n",
    "    x = p*N\n",
    "    expected_count.append(x)\n",
    "    \n",
    "    actual = len([y for y in mod if a <= y < b])\n",
    "    actual_count.append(actual)\n",
    "    \n",
    "    d = actual - x\n",
    "    diffs.append(d)\n",
    "    chi_square.append(d**2/x)\n",
    "    \n",
    "print \"{:^20}{:^20}{:^20}{:^20}{:^20}{:^20}\".format(\"Bin\", \"Prob.\", \"Expected\", \"Actual\", \"Diff\", \"Chi-square\")\n",
    "for i in range(len(bins)):\n",
    "    print \"({:>10.1f}, {:<10.1f}){:^20.5f}{:^20.5f}{:^20}{:^20.5f}{:^20.5f}\".format(\n",
    "        bins[i][0], bins[i][1], probability_of_bin[i], expected_count[i], actual_count[i], diffs[i], chi_square[i]\n",
    "    )\n",
    "print\n",
    "print\n",
    "\n",
    "test_statistic, p_val = chisquare(actual_count, expected_count, 2)\n",
    "print \"The test statistic is: {:.5f}\".format(sum(chi_square))\n",
    "print \"The chi-square, {} degrees of freedom p-value is {:.5f}\".format(len(actual_count)-1-2, p_val)"
   ]
  },
  {
   "cell_type": "code",
   "execution_count": 180,
   "metadata": {
    "collapsed": false
   },
   "outputs": [
    {
     "data": {
      "image/png": "[encoded data removed]",
      "text/plain": [
       "<matplotlib.figure.Figure at 0x11165b550>"
      ]
     },
     "metadata": {},
     "output_type": "display_data"
    }
   ],
   "source": [
    "_ = hist(mod, bins=_bins, normed=True)\n",
    "X = linspace(0, _max, 10000)\n",
    "L = lam\n",
    "Y = L*exp(-L*X)\n",
    "_ = plot(X, Y, 'r-')\n"
   ]
  },
  {
   "cell_type": "markdown",
   "metadata": {},
   "source": [
    "###We reject $H_0$ and accept $H_1$; this is not likely an exponential distribution"
   ]
  },
  {
   "cell_type": "code",
   "execution_count": null,
   "metadata": {
    "collapsed": false
   },
   "outputs": [],
   "source": []
  }
 ],
 "metadata": {
  "kernelspec": {
   "display_name": "Python 3",
   "language": "python",
   "name": "python3"
  },
  "language_info": {
   "codemirror_mode": {
    "name": "ipython",
    "version": 3
   },
   "file_extension": ".py",
   "mimetype": "text/x-python",
   "name": "python",
   "nbconvert_exporter": "python",
   "pygments_lexer": "ipython3",
   "version": "3.4.3"
  }
 },
 "nbformat": 4,
 "nbformat_minor": 0
}
